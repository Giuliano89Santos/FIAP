{
 "cells": [
  {
   "cell_type": "markdown",
   "metadata": {},
   "source": [
    "# MBA FIAP Inteligência Artificial & Machine Learning\n",
    "\n",
    "![Image of Dementia](img/ml.png)\n",
    "\n",
    "## Programando IA com Python\n",
    "## Projeto Final: Estimando Preços de Automóveis Utilizando Modelos de Regressão\n",
    "\n",
    "Este projeto final tem como objetivo explorar os conhecimentos adquiridos nas aulas práticas. Por meio uma trilha guiada para construir um classificador que permitirá predizer o valor de um automóvel baseado em algumas características que cada grupo deverá escolher.\n",
    "\n",
    "Este projeto poderá ser feita por grupos de até 4 pessoas.\n",
    "\n",
    "| Nome dos Integrantes     | RM            | Turma |\n",
    "| :----------------------- | :------------ | :---: |\n",
    "| Edson Mosman             | RM 331282     | `1IA` |\n",
    "| Giuliano Santos          | RM 330548     | `1IA` |\n",
    "| Leonardo Carvalho        | RM 330208     | `1IA` |\n",
    "| Ricardo Prates           | RM 330250     | `1IA` |\n",
    "\n",
    "Por ser um projeto guiado, fique atento quando houver as marcações **Implementação** indica que é necessário realizar alguma implementação em Python no bloco a seguir onde há a inscrição ```##IMPLEMENTAR``` e **Resposta** indica que é esperado uma resposta objetiva relacionado a algum questionamento. Cada grupo pode utilizar nas respostas objetivas quaisquer itens necessários que enriqueçam seu ponto vista, como gráficos e, até mesmo, trechos de código-fonte.\n",
    "\n",
    "Pode-se utilizar quantos blocos forem necessários para realizar determinadas implementações ou utilizá-las para justificar as respostas. Não é obrigatório utilizar somente o bloco indicado.\n",
    "\n",
    "Ao final não se esqueça de subir os arquivos do projeto nas contas do GitHub de cada membro, ou subir na do representante do grupo e os membros realizarem o fork do projeto.\n",
    "\n",
    "A avaliação terá mais ênfase nos seguintes tópicos de desenvolvimento do projeto:\n",
    " \n",
    "1. __Exploração de Dados__\n",
    "2. __Preparação de Dados__\n",
    "3. __Desenvolvimento do Modelo__\n",
    "4. __Treinamento e Teste do Modelo__\n",
    "5. __Validação e Otimização do Modelo__\n",
    "6. __Conclusões Finais__"
   ]
  },
  {
   "cell_type": "markdown",
   "metadata": {},
   "source": [
    "## Exploração de Dados"
   ]
  },
  {
   "cell_type": "markdown",
   "metadata": {},
   "source": [
    "Os dados que serão utilizados foram modificados para propocionar uma experiência que explore melhor as técnicas de processamento e preparação de dados aprendidas.\n",
    "\n",
    "Originalmente os dados foram extraídos do Kaggle deste [dataset](https://www.kaggle.com/nisargpatel/automobiles/data)."
   ]
  },
  {
   "cell_type": "markdown",
   "metadata": {},
   "source": [
    "**Implementação** \n",
    "\n",
    "Carregue o dataset \"automobile-mod.csv\" que se encontra na pasta \"data\" e faça uma inspeção nas 10 primeiras linhas para identificação básica dos atributos.\n",
    "\n",
    "O dataset original \"automobile.csv\" se encontra na mesma pasta apenas como referência. Não deverá ser utilizado.\n",
    "\n",
    "__Atualizado em 16/07/2017__"
   ]
  },
  {
   "cell_type": "code",
   "execution_count": 1,
   "metadata": {},
   "outputs": [],
   "source": [
    "import seaborn as sns\n",
    "import matplotlib.pyplot as plt\n",
    "import pandas as pd\n",
    "import numpy as np\n",
    "\n",
    "%matplotlib inline"
   ]
  },
  {
   "cell_type": "code",
   "execution_count": 2,
   "metadata": {},
   "outputs": [],
   "source": [
    "# Carregando o dataset 'automobile-mod.csv'\n",
    "df = pd.read_csv('data/automobile-mod.csv', sep=';', header=0)"
   ]
  },
  {
   "cell_type": "code",
   "execution_count": 190,
   "metadata": {},
   "outputs": [
    {
     "data": {
      "text/html": [
       "<div>\n",
       "<style scoped>\n",
       "    .dataframe tbody tr th:only-of-type {\n",
       "        vertical-align: middle;\n",
       "    }\n",
       "\n",
       "    .dataframe tbody tr th {\n",
       "        vertical-align: top;\n",
       "    }\n",
       "\n",
       "    .dataframe thead th {\n",
       "        text-align: right;\n",
       "    }\n",
       "</style>\n",
       "<table border=\"1\" class=\"dataframe\">\n",
       "  <thead>\n",
       "    <tr style=\"text-align: right;\">\n",
       "      <th></th>\n",
       "      <th>make</th>\n",
       "      <th>fuel_type</th>\n",
       "      <th>aspiration</th>\n",
       "      <th>number_of_doors</th>\n",
       "      <th>body_style</th>\n",
       "      <th>drive_wheels</th>\n",
       "      <th>engine_location</th>\n",
       "      <th>wheel_base</th>\n",
       "      <th>length</th>\n",
       "      <th>width</th>\n",
       "      <th>...</th>\n",
       "      <th>engine_size</th>\n",
       "      <th>fuel_system</th>\n",
       "      <th>bore</th>\n",
       "      <th>stroke</th>\n",
       "      <th>compression_ratio</th>\n",
       "      <th>horsepower</th>\n",
       "      <th>peak_rpm</th>\n",
       "      <th>city_mpg</th>\n",
       "      <th>highway_mpg</th>\n",
       "      <th>price</th>\n",
       "    </tr>\n",
       "  </thead>\n",
       "  <tbody>\n",
       "    <tr>\n",
       "      <th>0</th>\n",
       "      <td>alfa-romero</td>\n",
       "      <td>gas</td>\n",
       "      <td>std</td>\n",
       "      <td>two</td>\n",
       "      <td>convertible</td>\n",
       "      <td>rwd</td>\n",
       "      <td>front</td>\n",
       "      <td>88.6</td>\n",
       "      <td>168.8</td>\n",
       "      <td>64.1</td>\n",
       "      <td>...</td>\n",
       "      <td>130</td>\n",
       "      <td>mpfi</td>\n",
       "      <td>3.47</td>\n",
       "      <td>2.68</td>\n",
       "      <td>9.0</td>\n",
       "      <td>111</td>\n",
       "      <td>5000.0</td>\n",
       "      <td>21.0</td>\n",
       "      <td>27.0</td>\n",
       "      <td>13495</td>\n",
       "    </tr>\n",
       "    <tr>\n",
       "      <th>1</th>\n",
       "      <td>alfa-romero</td>\n",
       "      <td>gas</td>\n",
       "      <td>std</td>\n",
       "      <td>two</td>\n",
       "      <td>convertible</td>\n",
       "      <td>rwd</td>\n",
       "      <td>front</td>\n",
       "      <td>88.6</td>\n",
       "      <td>168.8</td>\n",
       "      <td>64.1</td>\n",
       "      <td>...</td>\n",
       "      <td>130</td>\n",
       "      <td>mpfi</td>\n",
       "      <td>3.47</td>\n",
       "      <td>2.68</td>\n",
       "      <td>9.0</td>\n",
       "      <td>111</td>\n",
       "      <td>5000.0</td>\n",
       "      <td>21.0</td>\n",
       "      <td>27.0</td>\n",
       "      <td>16500</td>\n",
       "    </tr>\n",
       "    <tr>\n",
       "      <th>2</th>\n",
       "      <td>alfa-romero</td>\n",
       "      <td>gas</td>\n",
       "      <td>std</td>\n",
       "      <td>two</td>\n",
       "      <td>hatchback</td>\n",
       "      <td>rwd</td>\n",
       "      <td>front</td>\n",
       "      <td>94.5</td>\n",
       "      <td>171.2</td>\n",
       "      <td>65.5</td>\n",
       "      <td>...</td>\n",
       "      <td>152</td>\n",
       "      <td>mpfi</td>\n",
       "      <td>2.68</td>\n",
       "      <td>3.47</td>\n",
       "      <td>9.0</td>\n",
       "      <td>154</td>\n",
       "      <td>5000.0</td>\n",
       "      <td>19.0</td>\n",
       "      <td>26.0</td>\n",
       "      <td>16500</td>\n",
       "    </tr>\n",
       "    <tr>\n",
       "      <th>3</th>\n",
       "      <td>audi</td>\n",
       "      <td>gas</td>\n",
       "      <td>std</td>\n",
       "      <td>four</td>\n",
       "      <td>sedan</td>\n",
       "      <td>fwd</td>\n",
       "      <td>front</td>\n",
       "      <td>99.8</td>\n",
       "      <td>176.6</td>\n",
       "      <td>66.2</td>\n",
       "      <td>...</td>\n",
       "      <td>109</td>\n",
       "      <td>mpfi</td>\n",
       "      <td>3.19</td>\n",
       "      <td>3.40</td>\n",
       "      <td>10.0</td>\n",
       "      <td>102</td>\n",
       "      <td>5500.0</td>\n",
       "      <td>24.0</td>\n",
       "      <td>30.0</td>\n",
       "      <td>13950</td>\n",
       "    </tr>\n",
       "    <tr>\n",
       "      <th>4</th>\n",
       "      <td>audi</td>\n",
       "      <td>gas</td>\n",
       "      <td>std</td>\n",
       "      <td>four</td>\n",
       "      <td>sedan</td>\n",
       "      <td>4wd</td>\n",
       "      <td>front</td>\n",
       "      <td>99.4</td>\n",
       "      <td>176.6</td>\n",
       "      <td>66.4</td>\n",
       "      <td>...</td>\n",
       "      <td>136</td>\n",
       "      <td>mpfi</td>\n",
       "      <td>3.19</td>\n",
       "      <td>3.40</td>\n",
       "      <td>8.0</td>\n",
       "      <td>115</td>\n",
       "      <td>5500.0</td>\n",
       "      <td>18.0</td>\n",
       "      <td>22.0</td>\n",
       "      <td>17450</td>\n",
       "    </tr>\n",
       "    <tr>\n",
       "      <th>5</th>\n",
       "      <td>audi</td>\n",
       "      <td>gas</td>\n",
       "      <td>std</td>\n",
       "      <td>two</td>\n",
       "      <td>sedan</td>\n",
       "      <td>fwd</td>\n",
       "      <td>front</td>\n",
       "      <td>99.8</td>\n",
       "      <td>177.3</td>\n",
       "      <td>66.3</td>\n",
       "      <td>...</td>\n",
       "      <td>136</td>\n",
       "      <td>mpfi</td>\n",
       "      <td>3.19</td>\n",
       "      <td>3.40</td>\n",
       "      <td>8.5</td>\n",
       "      <td>110</td>\n",
       "      <td>5500.0</td>\n",
       "      <td>19.0</td>\n",
       "      <td>25.0</td>\n",
       "      <td>15250</td>\n",
       "    </tr>\n",
       "    <tr>\n",
       "      <th>6</th>\n",
       "      <td>audi</td>\n",
       "      <td>gas</td>\n",
       "      <td>std</td>\n",
       "      <td>four</td>\n",
       "      <td>sedan</td>\n",
       "      <td>fwd</td>\n",
       "      <td>front</td>\n",
       "      <td>105.8</td>\n",
       "      <td>192.7</td>\n",
       "      <td>71.4</td>\n",
       "      <td>...</td>\n",
       "      <td>136</td>\n",
       "      <td>mpfi</td>\n",
       "      <td>3.19</td>\n",
       "      <td>3.40</td>\n",
       "      <td>8.5</td>\n",
       "      <td>110</td>\n",
       "      <td>5500.0</td>\n",
       "      <td>19.0</td>\n",
       "      <td>25.0</td>\n",
       "      <td>17710</td>\n",
       "    </tr>\n",
       "    <tr>\n",
       "      <th>7</th>\n",
       "      <td>audi</td>\n",
       "      <td>gas</td>\n",
       "      <td>std</td>\n",
       "      <td>four</td>\n",
       "      <td>wagon</td>\n",
       "      <td>fwd</td>\n",
       "      <td>front</td>\n",
       "      <td>105.8</td>\n",
       "      <td>192.7</td>\n",
       "      <td>71.4</td>\n",
       "      <td>...</td>\n",
       "      <td>136</td>\n",
       "      <td>mpfi</td>\n",
       "      <td>3.19</td>\n",
       "      <td>3.40</td>\n",
       "      <td>8.5</td>\n",
       "      <td>110</td>\n",
       "      <td>5500.0</td>\n",
       "      <td>19.0</td>\n",
       "      <td>25.0</td>\n",
       "      <td>18920</td>\n",
       "    </tr>\n",
       "    <tr>\n",
       "      <th>8</th>\n",
       "      <td>audi</td>\n",
       "      <td>gas</td>\n",
       "      <td>turbo</td>\n",
       "      <td>four</td>\n",
       "      <td>sedan</td>\n",
       "      <td>fwd</td>\n",
       "      <td>front</td>\n",
       "      <td>105.8</td>\n",
       "      <td>192.7</td>\n",
       "      <td>71.4</td>\n",
       "      <td>...</td>\n",
       "      <td>131</td>\n",
       "      <td>mpfi</td>\n",
       "      <td>3.13</td>\n",
       "      <td>3.40</td>\n",
       "      <td>8.3</td>\n",
       "      <td>140</td>\n",
       "      <td>5500.0</td>\n",
       "      <td>17.0</td>\n",
       "      <td>20.0</td>\n",
       "      <td>23875</td>\n",
       "    </tr>\n",
       "    <tr>\n",
       "      <th>9</th>\n",
       "      <td>bmw</td>\n",
       "      <td>gas</td>\n",
       "      <td>std</td>\n",
       "      <td>two</td>\n",
       "      <td>sedan</td>\n",
       "      <td>rwd</td>\n",
       "      <td>front</td>\n",
       "      <td>101.2</td>\n",
       "      <td>176.8</td>\n",
       "      <td>64.8</td>\n",
       "      <td>...</td>\n",
       "      <td>108</td>\n",
       "      <td>mpfi</td>\n",
       "      <td>3.50</td>\n",
       "      <td>2.80</td>\n",
       "      <td>8.8</td>\n",
       "      <td>101</td>\n",
       "      <td>5800.0</td>\n",
       "      <td>23.0</td>\n",
       "      <td>29.0</td>\n",
       "      <td>16430</td>\n",
       "    </tr>\n",
       "  </tbody>\n",
       "</table>\n",
       "<p>10 rows × 24 columns</p>\n",
       "</div>"
      ],
      "text/plain": [
       "          make fuel_type aspiration number_of_doors   body_style drive_wheels  \\\n",
       "0  alfa-romero       gas        std             two  convertible          rwd   \n",
       "1  alfa-romero       gas        std             two  convertible          rwd   \n",
       "2  alfa-romero       gas        std             two    hatchback          rwd   \n",
       "3         audi       gas        std            four        sedan          fwd   \n",
       "4         audi       gas        std            four        sedan          4wd   \n",
       "5         audi       gas        std             two        sedan          fwd   \n",
       "6         audi       gas        std            four        sedan          fwd   \n",
       "7         audi       gas        std            four        wagon          fwd   \n",
       "8         audi       gas      turbo            four        sedan          fwd   \n",
       "9          bmw       gas        std             two        sedan          rwd   \n",
       "\n",
       "  engine_location  wheel_base  length  width  ...    engine_size  fuel_system  \\\n",
       "0           front        88.6   168.8   64.1  ...            130         mpfi   \n",
       "1           front        88.6   168.8   64.1  ...            130         mpfi   \n",
       "2           front        94.5   171.2   65.5  ...            152         mpfi   \n",
       "3           front        99.8   176.6   66.2  ...            109         mpfi   \n",
       "4           front        99.4   176.6   66.4  ...            136         mpfi   \n",
       "5           front        99.8   177.3   66.3  ...            136         mpfi   \n",
       "6           front       105.8   192.7   71.4  ...            136         mpfi   \n",
       "7           front       105.8   192.7   71.4  ...            136         mpfi   \n",
       "8           front       105.8   192.7   71.4  ...            131         mpfi   \n",
       "9           front       101.2   176.8   64.8  ...            108         mpfi   \n",
       "\n",
       "   bore stroke  compression_ratio horsepower  peak_rpm  city_mpg  highway_mpg  \\\n",
       "0  3.47   2.68                9.0        111    5000.0      21.0         27.0   \n",
       "1  3.47   2.68                9.0        111    5000.0      21.0         27.0   \n",
       "2  2.68   3.47                9.0        154    5000.0      19.0         26.0   \n",
       "3  3.19   3.40               10.0        102    5500.0      24.0         30.0   \n",
       "4  3.19   3.40                8.0        115    5500.0      18.0         22.0   \n",
       "5  3.19   3.40                8.5        110    5500.0      19.0         25.0   \n",
       "6  3.19   3.40                8.5        110    5500.0      19.0         25.0   \n",
       "7  3.19   3.40                8.5        110    5500.0      19.0         25.0   \n",
       "8  3.13   3.40                8.3        140    5500.0      17.0         20.0   \n",
       "9  3.50   2.80                8.8        101    5800.0      23.0         29.0   \n",
       "\n",
       "   price  \n",
       "0  13495  \n",
       "1  16500  \n",
       "2  16500  \n",
       "3  13950  \n",
       "4  17450  \n",
       "5  15250  \n",
       "6  17710  \n",
       "7  18920  \n",
       "8  23875  \n",
       "9  16430  \n",
       "\n",
       "[10 rows x 24 columns]"
      ]
     },
     "execution_count": 190,
     "metadata": {},
     "output_type": "execute_result"
    }
   ],
   "source": [
    "# Listando as 10 primeiras linhas do dataset\n",
    "df.head(10)"
   ]
  },
  {
   "cell_type": "markdown",
   "metadata": {},
   "source": [
    "Relação das coluna e seu significado:\n",
    "\n",
    "1. make: fabricante\n",
    "2. fuel_type: tipo de combustível\n",
    "3. aspiration: tipo de aspiração do motor, ex. turbo ou padrão (std)\n",
    "4. body_style: estilo do carro, ex. sedan ou hatchback\n",
    "5. drive_wheels: tração do carro, ex. rwd (tração traseira) ou frw (tração dianteira)\n",
    "6. wheel_base: entre-eixos, distância entre o eixo dianteiro e o eixo traseiro\n",
    "7. length: comprimento\n",
    "8. width: largura\n",
    "9. height: altura\n",
    "10. curb_wheight: peso\n",
    "11. engine_type: tipo do motor\n",
    "12. number_of_cylinders: cilindrada, quantidade de cilindros\n",
    "13. engine_size: tamanho do motor\n",
    "14. fuel_system: sistema de injeção\n",
    "15. bore: diâmetro do cilindro\n",
    "16. stroke: diâmetro do pistão\n",
    "17. compression_ratio: razão de compressão\n",
    "18. horsepower: cavalo de força ou HP\n",
    "19. peak_rpm: pico de RPM (rotações por minuto)\n",
    "20. city_mpg: consumo em mpg (milhas por galão) na cidade\n",
    "21. highway_mpg: consumo em mpg (milhas por galão) na estrada\n",
    "22. price: preço (**Variável Alvo**)"
   ]
  },
  {
   "cell_type": "code",
   "execution_count": 165,
   "metadata": {},
   "outputs": [
    {
     "data": {
      "text/plain": [
       "Index(['make', 'fuel_type', 'aspiration', 'number_of_doors', 'body_style',\n",
       "       'drive_wheels', 'engine_location', 'wheel_base', 'length', 'width',\n",
       "       'height', 'curb_weight', 'engine_type', 'number_of_cylinders',\n",
       "       'engine_size', 'fuel_system', 'bore', 'stroke', 'compression_ratio',\n",
       "       'horsepower', 'peak_rpm', 'city_mpg', 'highway_mpg', 'price'],\n",
       "      dtype='object')"
      ]
     },
     "execution_count": 165,
     "metadata": {},
     "output_type": "execute_result"
    }
   ],
   "source": [
    "# Nome das colunas\n",
    "df.columns"
   ]
  },
  {
   "cell_type": "code",
   "execution_count": 8,
   "metadata": {},
   "outputs": [],
   "source": [
    "# O nome das colunas poderiam ser alterados de acordo com o seu significado (tradução)\n",
    "#df.columns = ['fabricante','combustivel','tipo_aspiracao_motor','portas','estilo','tracao','localizacao_motor','entre-eixos','comprimento','largura','altura','peso','tipo_motor','cilindrada','tamanho_motor','sistema_injecao','diametro_cilindro','diametro_pistao','razao_compressao','hp','rpm','consumo_mpg_cidade','consumo_mpg_estrada','preco']"
   ]
  },
  {
   "cell_type": "markdown",
   "metadata": {},
   "source": [
    "### Correlacionamento dos atributos"
   ]
  },
  {
   "cell_type": "markdown",
   "metadata": {},
   "source": [
    "###### Resposta:\n",
    "*Interpretação do grau de correlação (valores positivos ou negativos)*\n",
    "* *0.00 a 0.19 - correção bem fraca*\n",
    "* *0.20 a 0.39 - correção fraca*\n",
    "* *0.40 a 0.69 - correção moderada*\n",
    "* *0.70 a 0.89 - correção forte*\n",
    "* *0.90 a 1.00 - correção muito forte*"
   ]
  },
  {
   "cell_type": "code",
   "execution_count": 166,
   "metadata": {},
   "outputs": [
    {
     "data": {
      "text/html": [
       "<div>\n",
       "<style scoped>\n",
       "    .dataframe tbody tr th:only-of-type {\n",
       "        vertical-align: middle;\n",
       "    }\n",
       "\n",
       "    .dataframe tbody tr th {\n",
       "        vertical-align: top;\n",
       "    }\n",
       "\n",
       "    .dataframe thead th {\n",
       "        text-align: right;\n",
       "    }\n",
       "</style>\n",
       "<table border=\"1\" class=\"dataframe\">\n",
       "  <thead>\n",
       "    <tr style=\"text-align: right;\">\n",
       "      <th></th>\n",
       "      <th>wheel_base</th>\n",
       "      <th>length</th>\n",
       "      <th>width</th>\n",
       "      <th>height</th>\n",
       "      <th>curb_weight</th>\n",
       "      <th>engine_size</th>\n",
       "      <th>bore</th>\n",
       "      <th>stroke</th>\n",
       "      <th>compression_ratio</th>\n",
       "      <th>horsepower</th>\n",
       "      <th>peak_rpm</th>\n",
       "      <th>city_mpg</th>\n",
       "      <th>highway_mpg</th>\n",
       "      <th>price</th>\n",
       "    </tr>\n",
       "  </thead>\n",
       "  <tbody>\n",
       "    <tr>\n",
       "      <th>wheel_base</th>\n",
       "      <td>1.000000</td>\n",
       "      <td>0.876024</td>\n",
       "      <td>0.814507</td>\n",
       "      <td>0.590742</td>\n",
       "      <td>0.782097</td>\n",
       "      <td>0.572027</td>\n",
       "      <td>0.495210</td>\n",
       "      <td>0.148239</td>\n",
       "      <td>0.250313</td>\n",
       "      <td>0.372607</td>\n",
       "      <td>-0.202727</td>\n",
       "      <td>-0.454390</td>\n",
       "      <td>-0.566392</td>\n",
       "      <td>0.584642</td>\n",
       "    </tr>\n",
       "    <tr>\n",
       "      <th>length</th>\n",
       "      <td>0.876024</td>\n",
       "      <td>1.000000</td>\n",
       "      <td>0.857170</td>\n",
       "      <td>0.492063</td>\n",
       "      <td>0.880665</td>\n",
       "      <td>0.685025</td>\n",
       "      <td>0.610324</td>\n",
       "      <td>0.116745</td>\n",
       "      <td>0.159733</td>\n",
       "      <td>0.577923</td>\n",
       "      <td>-0.056354</td>\n",
       "      <td>-0.633185</td>\n",
       "      <td>-0.709308</td>\n",
       "      <td>0.690628</td>\n",
       "    </tr>\n",
       "    <tr>\n",
       "      <th>width</th>\n",
       "      <td>0.814507</td>\n",
       "      <td>0.857170</td>\n",
       "      <td>1.000000</td>\n",
       "      <td>0.306002</td>\n",
       "      <td>0.866201</td>\n",
       "      <td>0.729436</td>\n",
       "      <td>0.545028</td>\n",
       "      <td>0.186352</td>\n",
       "      <td>0.189867</td>\n",
       "      <td>0.613488</td>\n",
       "      <td>-0.092631</td>\n",
       "      <td>-0.620316</td>\n",
       "      <td>-0.697742</td>\n",
       "      <td>0.751265</td>\n",
       "    </tr>\n",
       "    <tr>\n",
       "      <th>height</th>\n",
       "      <td>0.590742</td>\n",
       "      <td>0.492063</td>\n",
       "      <td>0.306002</td>\n",
       "      <td>1.000000</td>\n",
       "      <td>0.307581</td>\n",
       "      <td>0.074694</td>\n",
       "      <td>0.186701</td>\n",
       "      <td>-0.086508</td>\n",
       "      <td>0.259737</td>\n",
       "      <td>-0.085544</td>\n",
       "      <td>-0.275686</td>\n",
       "      <td>-0.069029</td>\n",
       "      <td>-0.117146</td>\n",
       "      <td>0.135486</td>\n",
       "    </tr>\n",
       "    <tr>\n",
       "      <th>curb_weight</th>\n",
       "      <td>0.782097</td>\n",
       "      <td>0.880665</td>\n",
       "      <td>0.866201</td>\n",
       "      <td>0.307581</td>\n",
       "      <td>1.000000</td>\n",
       "      <td>0.849072</td>\n",
       "      <td>0.644871</td>\n",
       "      <td>0.162179</td>\n",
       "      <td>0.156433</td>\n",
       "      <td>0.757762</td>\n",
       "      <td>-0.098857</td>\n",
       "      <td>-0.714663</td>\n",
       "      <td>-0.800276</td>\n",
       "      <td>0.834415</td>\n",
       "    </tr>\n",
       "    <tr>\n",
       "      <th>engine_size</th>\n",
       "      <td>0.572027</td>\n",
       "      <td>0.685025</td>\n",
       "      <td>0.729436</td>\n",
       "      <td>0.074694</td>\n",
       "      <td>0.849072</td>\n",
       "      <td>1.000000</td>\n",
       "      <td>0.577265</td>\n",
       "      <td>0.184605</td>\n",
       "      <td>0.028889</td>\n",
       "      <td>0.821685</td>\n",
       "      <td>-0.104959</td>\n",
       "      <td>-0.619403</td>\n",
       "      <td>-0.671867</td>\n",
       "      <td>0.872335</td>\n",
       "    </tr>\n",
       "    <tr>\n",
       "      <th>bore</th>\n",
       "      <td>0.495210</td>\n",
       "      <td>0.610324</td>\n",
       "      <td>0.545028</td>\n",
       "      <td>0.186701</td>\n",
       "      <td>0.644871</td>\n",
       "      <td>0.577265</td>\n",
       "      <td>1.000000</td>\n",
       "      <td>-0.057887</td>\n",
       "      <td>0.001971</td>\n",
       "      <td>0.563921</td>\n",
       "      <td>-0.046081</td>\n",
       "      <td>-0.542294</td>\n",
       "      <td>-0.576674</td>\n",
       "      <td>0.543052</td>\n",
       "    </tr>\n",
       "    <tr>\n",
       "      <th>stroke</th>\n",
       "      <td>0.148239</td>\n",
       "      <td>0.116745</td>\n",
       "      <td>0.186352</td>\n",
       "      <td>-0.086508</td>\n",
       "      <td>0.162179</td>\n",
       "      <td>0.184605</td>\n",
       "      <td>-0.057887</td>\n",
       "      <td>1.000000</td>\n",
       "      <td>0.183855</td>\n",
       "      <td>0.092493</td>\n",
       "      <td>-0.065078</td>\n",
       "      <td>-0.079547</td>\n",
       "      <td>-0.071479</td>\n",
       "      <td>0.081434</td>\n",
       "    </tr>\n",
       "    <tr>\n",
       "      <th>compression_ratio</th>\n",
       "      <td>0.250313</td>\n",
       "      <td>0.159733</td>\n",
       "      <td>0.189867</td>\n",
       "      <td>0.259737</td>\n",
       "      <td>0.156433</td>\n",
       "      <td>0.028889</td>\n",
       "      <td>0.001971</td>\n",
       "      <td>0.183855</td>\n",
       "      <td>1.000000</td>\n",
       "      <td>-0.212984</td>\n",
       "      <td>-0.284202</td>\n",
       "      <td>0.270039</td>\n",
       "      <td>0.207436</td>\n",
       "      <td>0.071107</td>\n",
       "    </tr>\n",
       "    <tr>\n",
       "      <th>horsepower</th>\n",
       "      <td>0.372607</td>\n",
       "      <td>0.577923</td>\n",
       "      <td>0.613488</td>\n",
       "      <td>-0.085544</td>\n",
       "      <td>0.757762</td>\n",
       "      <td>0.821685</td>\n",
       "      <td>0.563921</td>\n",
       "      <td>0.092493</td>\n",
       "      <td>-0.212984</td>\n",
       "      <td>1.000000</td>\n",
       "      <td>0.132510</td>\n",
       "      <td>-0.763573</td>\n",
       "      <td>-0.776634</td>\n",
       "      <td>0.810795</td>\n",
       "    </tr>\n",
       "    <tr>\n",
       "      <th>peak_rpm</th>\n",
       "      <td>-0.202727</td>\n",
       "      <td>-0.056354</td>\n",
       "      <td>-0.092631</td>\n",
       "      <td>-0.275686</td>\n",
       "      <td>-0.098857</td>\n",
       "      <td>-0.104959</td>\n",
       "      <td>-0.046081</td>\n",
       "      <td>-0.065078</td>\n",
       "      <td>-0.284202</td>\n",
       "      <td>0.132510</td>\n",
       "      <td>1.000000</td>\n",
       "      <td>-0.127533</td>\n",
       "      <td>-0.050670</td>\n",
       "      <td>-0.006104</td>\n",
       "    </tr>\n",
       "    <tr>\n",
       "      <th>city_mpg</th>\n",
       "      <td>-0.454390</td>\n",
       "      <td>-0.633185</td>\n",
       "      <td>-0.620316</td>\n",
       "      <td>-0.069029</td>\n",
       "      <td>-0.714663</td>\n",
       "      <td>-0.619403</td>\n",
       "      <td>-0.542294</td>\n",
       "      <td>-0.079547</td>\n",
       "      <td>0.270039</td>\n",
       "      <td>-0.763573</td>\n",
       "      <td>-0.127533</td>\n",
       "      <td>1.000000</td>\n",
       "      <td>0.875933</td>\n",
       "      <td>-0.657661</td>\n",
       "    </tr>\n",
       "    <tr>\n",
       "      <th>highway_mpg</th>\n",
       "      <td>-0.566392</td>\n",
       "      <td>-0.709308</td>\n",
       "      <td>-0.697742</td>\n",
       "      <td>-0.117146</td>\n",
       "      <td>-0.800276</td>\n",
       "      <td>-0.671867</td>\n",
       "      <td>-0.576674</td>\n",
       "      <td>-0.071479</td>\n",
       "      <td>0.207436</td>\n",
       "      <td>-0.776634</td>\n",
       "      <td>-0.050670</td>\n",
       "      <td>0.875933</td>\n",
       "      <td>1.000000</td>\n",
       "      <td>-0.712812</td>\n",
       "    </tr>\n",
       "    <tr>\n",
       "      <th>price</th>\n",
       "      <td>0.584642</td>\n",
       "      <td>0.690628</td>\n",
       "      <td>0.751265</td>\n",
       "      <td>0.135486</td>\n",
       "      <td>0.834415</td>\n",
       "      <td>0.872335</td>\n",
       "      <td>0.543052</td>\n",
       "      <td>0.081434</td>\n",
       "      <td>0.071107</td>\n",
       "      <td>0.810795</td>\n",
       "      <td>-0.006104</td>\n",
       "      <td>-0.657661</td>\n",
       "      <td>-0.712812</td>\n",
       "      <td>1.000000</td>\n",
       "    </tr>\n",
       "  </tbody>\n",
       "</table>\n",
       "</div>"
      ],
      "text/plain": [
       "                   wheel_base    length     width    height  curb_weight  \\\n",
       "wheel_base           1.000000  0.876024  0.814507  0.590742     0.782097   \n",
       "length               0.876024  1.000000  0.857170  0.492063     0.880665   \n",
       "width                0.814507  0.857170  1.000000  0.306002     0.866201   \n",
       "height               0.590742  0.492063  0.306002  1.000000     0.307581   \n",
       "curb_weight          0.782097  0.880665  0.866201  0.307581     1.000000   \n",
       "engine_size          0.572027  0.685025  0.729436  0.074694     0.849072   \n",
       "bore                 0.495210  0.610324  0.545028  0.186701     0.644871   \n",
       "stroke               0.148239  0.116745  0.186352 -0.086508     0.162179   \n",
       "compression_ratio    0.250313  0.159733  0.189867  0.259737     0.156433   \n",
       "horsepower           0.372607  0.577923  0.613488 -0.085544     0.757762   \n",
       "peak_rpm            -0.202727 -0.056354 -0.092631 -0.275686    -0.098857   \n",
       "city_mpg            -0.454390 -0.633185 -0.620316 -0.069029    -0.714663   \n",
       "highway_mpg         -0.566392 -0.709308 -0.697742 -0.117146    -0.800276   \n",
       "price                0.584642  0.690628  0.751265  0.135486     0.834415   \n",
       "\n",
       "                   engine_size      bore    stroke  compression_ratio  \\\n",
       "wheel_base            0.572027  0.495210  0.148239           0.250313   \n",
       "length                0.685025  0.610324  0.116745           0.159733   \n",
       "width                 0.729436  0.545028  0.186352           0.189867   \n",
       "height                0.074694  0.186701 -0.086508           0.259737   \n",
       "curb_weight           0.849072  0.644871  0.162179           0.156433   \n",
       "engine_size           1.000000  0.577265  0.184605           0.028889   \n",
       "bore                  0.577265  1.000000 -0.057887           0.001971   \n",
       "stroke                0.184605 -0.057887  1.000000           0.183855   \n",
       "compression_ratio     0.028889  0.001971  0.183855           1.000000   \n",
       "horsepower            0.821685  0.563921  0.092493          -0.212984   \n",
       "peak_rpm             -0.104959 -0.046081 -0.065078          -0.284202   \n",
       "city_mpg             -0.619403 -0.542294 -0.079547           0.270039   \n",
       "highway_mpg          -0.671867 -0.576674 -0.071479           0.207436   \n",
       "price                 0.872335  0.543052  0.081434           0.071107   \n",
       "\n",
       "                   horsepower  peak_rpm  city_mpg  highway_mpg     price  \n",
       "wheel_base           0.372607 -0.202727 -0.454390    -0.566392  0.584642  \n",
       "length               0.577923 -0.056354 -0.633185    -0.709308  0.690628  \n",
       "width                0.613488 -0.092631 -0.620316    -0.697742  0.751265  \n",
       "height              -0.085544 -0.275686 -0.069029    -0.117146  0.135486  \n",
       "curb_weight          0.757762 -0.098857 -0.714663    -0.800276  0.834415  \n",
       "engine_size          0.821685 -0.104959 -0.619403    -0.671867  0.872335  \n",
       "bore                 0.563921 -0.046081 -0.542294    -0.576674  0.543052  \n",
       "stroke               0.092493 -0.065078 -0.079547    -0.071479  0.081434  \n",
       "compression_ratio   -0.212984 -0.284202  0.270039     0.207436  0.071107  \n",
       "horsepower           1.000000  0.132510 -0.763573    -0.776634  0.810795  \n",
       "peak_rpm             0.132510  1.000000 -0.127533    -0.050670 -0.006104  \n",
       "city_mpg            -0.763573 -0.127533  1.000000     0.875933 -0.657661  \n",
       "highway_mpg         -0.776634 -0.050670  0.875933     1.000000 -0.712812  \n",
       "price                0.810795 -0.006104 -0.657661    -0.712812  1.000000  "
      ]
     },
     "execution_count": 166,
     "metadata": {},
     "output_type": "execute_result"
    }
   ],
   "source": [
    "# Verificando a correlação entre todas as colunas\n",
    "df.corr()"
   ]
  },
  {
   "cell_type": "markdown",
   "metadata": {},
   "source": [
    "Vamos utilizar algumas suposições e validar se elas são verdadeiras, por exemplo, o preço do carro pode variar com seu consumo, tamanho ou força? Vamos explorar estas hipósteses ou outras que o grupo julgue relevante."
   ]
  },
  {
   "cell_type": "markdown",
   "metadata": {},
   "source": [
    "###### RESPOSTA:\n",
    "*Conforme tabela de correlação acima, podemos verificar que:*\n",
    "* *<b>preço</b>: possui forte correlação entre <b>largura</b>, <b>peso</b>, <b>tamanho do motor</b>, <b>HP</b> e <b>consumo na estrada</b>.*\n",
    "* *<b>diâmetro do pistão</b>, <b>razão de compressão</b> e <b>RPM</b>: são os atributos que possuem o menor grau de correlação, estando entre bem fraca e fraca.*"
   ]
  },
  {
   "cell_type": "markdown",
   "metadata": {},
   "source": [
    "**Pergunta:** Cite um exemplo de pelo menos os 3 cenários propostos que corroboram a leitura dos dados apresentados, justique sua resposta."
   ]
  },
  {
   "cell_type": "markdown",
   "metadata": {},
   "source": [
    "**Resposta:**\n",
    "*Infelizmente não entendemos o questionamento. Quais são os 3 cenários propostos?*"
   ]
  },
  {
   "cell_type": "markdown",
   "metadata": {},
   "source": [
    "## Preparação dos Dados"
   ]
  },
  {
   "cell_type": "markdown",
   "metadata": {},
   "source": [
    "### Identificação de Outliers Visualmente"
   ]
  },
  {
   "cell_type": "markdown",
   "metadata": {},
   "source": [
    "Utilize visualizações gráficas para encontrar outliers em todos os atributos deste dataset.\n",
    "Ainda não vamos remover ou atualizar os valores, por enquanto é uma análise exploratória.\n",
    "\n",
    "Lembre-se que cada atributo possui um valor e dimensão diferente, portanto comparações devem estar em uma mesma base, por exemplo, __price__ não pode ser comparado com __width__ pois os eixos __y__ estarão sem proporção."
   ]
  },
  {
   "cell_type": "code",
   "execution_count": 103,
   "metadata": {},
   "outputs": [
    {
     "data": {
      "text/plain": [
       "Text(0.5,1,'preço')"
      ]
     },
     "execution_count": 103,
     "metadata": {},
     "output_type": "execute_result"
    },
    {
     "data": {
      "image/png": "[encoded data removed]",
      "text/plain": [
       "<matplotlib.figure.Figure at 0x7fe60f998ba8>"
      ]
     },
     "metadata": {},
     "output_type": "display_data"
    }
   ],
   "source": [
    "# Configurando área de plotagem para mostrar 7 gráficos em cada linha.\n",
    "fig, axes = plt.subplots(2,7, figsize=(18, 7), sharex=True)\n",
    "\n",
    "# Plotando gráficos Boxplot para analisar possíveis ouliers.\n",
    "ax = sns.boxplot(data=[df['wheel_base']], ax=axes[0,0])\n",
    "ax.set_title('entre-eixos')\n",
    "ax = sns.boxplot(data=[df['length']], ax=axes[0,1])\n",
    "ax.set_title('comprimento')\n",
    "ax = sns.boxplot(data=[df['width']], ax=axes[0,2])\n",
    "ax.set_title('largura')\n",
    "ax = sns.boxplot(data=[df['height']], ax=axes[0,3])\n",
    "ax.set_title('altura')\n",
    "ax = sns.boxplot(data=[df['curb_weight']], ax=axes[0,4])\n",
    "ax.set_title('peso')\n",
    "x = sns.boxplot(data=[df['engine_size']], ax=axes[0,5])\n",
    "x.set_title('tamanho motor')\n",
    "x = sns.boxplot(data=[df['bore']], ax=axes[0,6])\n",
    "x.set_title('diâmetro cilindro')\n",
    "ax = sns.boxplot(data=[df['stroke']], ax=axes[1,0])\n",
    "ax.set_title('diâmetro pistão')\n",
    "ax = sns.boxplot(data=[df['compression_ratio']], ax=axes[1,1])\n",
    "ax.set_title('razão compressão')\n",
    "ax = sns.boxplot(data=[df['horsepower']], ax=axes[1,2])\n",
    "ax.set_title('HP')\n",
    "ax = sns.boxplot(data=[df['peak_rpm']], ax=axes[1,3])\n",
    "ax.set_title('RPM')\n",
    "ax = sns.boxplot(data=[df['city_mpg']], ax=axes[1,4])\n",
    "ax.set_title('consumo cidade (mpg)')\n",
    "ax = sns.boxplot(data=[df['highway_mpg']], ax=axes[1,5])\n",
    "ax.set_title('consumo estrada (mpg)')\n",
    "ax = sns.boxplot(data=[df['price']], ax=axes[1,6])\n",
    "ax.set_title('preço')"
   ]
  },
  {
   "cell_type": "markdown",
   "metadata": {},
   "source": [
    "Antes de explorar melhor as correlações, vamos analisar se há dados discrepante no conjunto de dados. Analisar os dados sem esta análise antes pode nos levar a algum viés indesejado."
   ]
  },
  {
   "cell_type": "markdown",
   "metadata": {},
   "source": [
    "### Análise de valores inválidos"
   ]
  },
  {
   "cell_type": "markdown",
   "metadata": {},
   "source": [
    "Analise e busque por valores considerados nulos."
   ]
  },
  {
   "cell_type": "code",
   "execution_count": 167,
   "metadata": {},
   "outputs": [
    {
     "data": {
      "text/plain": [
       "make                   False\n",
       "fuel_type              False\n",
       "aspiration             False\n",
       "number_of_doors        False\n",
       "body_style             False\n",
       "drive_wheels           False\n",
       "engine_location        False\n",
       "wheel_base             False\n",
       "length                 False\n",
       "width                  False\n",
       "height                 False\n",
       "curb_weight            False\n",
       "engine_type            False\n",
       "number_of_cylinders    False\n",
       "engine_size            False\n",
       "fuel_system            False\n",
       "bore                   False\n",
       "stroke                 False\n",
       "compression_ratio      False\n",
       "horsepower             False\n",
       "peak_rpm                True\n",
       "city_mpg                True\n",
       "highway_mpg             True\n",
       "price                  False\n",
       "dtype: bool"
      ]
     },
     "execution_count": 167,
     "metadata": {},
     "output_type": "execute_result"
    }
   ],
   "source": [
    "# Buscando possiveis valores nulos\n",
    "df.isnull().any()"
   ]
  },
  {
   "cell_type": "markdown",
   "metadata": {},
   "source": [
    "###### RESPOSTA:\n",
    "*Foram encontrados valores nulos nas propriedades <b>peak_rpm</b>, <b>city_mpg</b> e <b>highway_mpg</b>.*"
   ]
  },
  {
   "cell_type": "markdown",
   "metadata": {},
   "source": [
    "Para os dados considerados nulos, realize a imputação de dados utilizando um valor apropriado (note que pode haver dados paramétricos e dados numéricos). Justique sua resposta."
   ]
  },
  {
   "cell_type": "code",
   "execution_count": 3,
   "metadata": {},
   "outputs": [
    {
     "data": {
      "text/html": [
       "<div>\n",
       "<style scoped>\n",
       "    .dataframe tbody tr th:only-of-type {\n",
       "        vertical-align: middle;\n",
       "    }\n",
       "\n",
       "    .dataframe tbody tr th {\n",
       "        vertical-align: top;\n",
       "    }\n",
       "\n",
       "    .dataframe thead th {\n",
       "        text-align: right;\n",
       "    }\n",
       "</style>\n",
       "<table border=\"1\" class=\"dataframe\">\n",
       "  <thead>\n",
       "    <tr style=\"text-align: right;\">\n",
       "      <th></th>\n",
       "      <th>make</th>\n",
       "      <th>fuel_type</th>\n",
       "      <th>aspiration</th>\n",
       "      <th>number_of_doors</th>\n",
       "      <th>body_style</th>\n",
       "      <th>drive_wheels</th>\n",
       "      <th>engine_location</th>\n",
       "      <th>wheel_base</th>\n",
       "      <th>length</th>\n",
       "      <th>width</th>\n",
       "      <th>...</th>\n",
       "      <th>engine_size</th>\n",
       "      <th>fuel_system</th>\n",
       "      <th>bore</th>\n",
       "      <th>stroke</th>\n",
       "      <th>compression_ratio</th>\n",
       "      <th>horsepower</th>\n",
       "      <th>peak_rpm</th>\n",
       "      <th>city_mpg</th>\n",
       "      <th>highway_mpg</th>\n",
       "      <th>price</th>\n",
       "    </tr>\n",
       "  </thead>\n",
       "  <tbody>\n",
       "    <tr>\n",
       "      <th>136</th>\n",
       "      <td>subaru</td>\n",
       "      <td>gas</td>\n",
       "      <td>std</td>\n",
       "      <td>two</td>\n",
       "      <td>hatchback</td>\n",
       "      <td>4wd</td>\n",
       "      <td>front</td>\n",
       "      <td>93.3</td>\n",
       "      <td>157.3</td>\n",
       "      <td>63.8</td>\n",
       "      <td>...</td>\n",
       "      <td>108</td>\n",
       "      <td>2bbl</td>\n",
       "      <td>3.62</td>\n",
       "      <td>2.64</td>\n",
       "      <td>8.7</td>\n",
       "      <td>73</td>\n",
       "      <td>NaN</td>\n",
       "      <td>26.0</td>\n",
       "      <td>31.0</td>\n",
       "      <td>7603</td>\n",
       "    </tr>\n",
       "    <tr>\n",
       "      <th>184</th>\n",
       "      <td>volkswagen</td>\n",
       "      <td>gas</td>\n",
       "      <td>std</td>\n",
       "      <td>four</td>\n",
       "      <td>sedan</td>\n",
       "      <td>fwd</td>\n",
       "      <td>front</td>\n",
       "      <td>97.3</td>\n",
       "      <td>171.7</td>\n",
       "      <td>65.5</td>\n",
       "      <td>...</td>\n",
       "      <td>109</td>\n",
       "      <td>mpfi</td>\n",
       "      <td>3.19</td>\n",
       "      <td>3.40</td>\n",
       "      <td>10.0</td>\n",
       "      <td>100</td>\n",
       "      <td>NaN</td>\n",
       "      <td>26.0</td>\n",
       "      <td>32.0</td>\n",
       "      <td>9995</td>\n",
       "    </tr>\n",
       "  </tbody>\n",
       "</table>\n",
       "<p>2 rows × 24 columns</p>\n",
       "</div>"
      ],
      "text/plain": [
       "           make fuel_type aspiration number_of_doors body_style drive_wheels  \\\n",
       "136      subaru       gas        std             two  hatchback          4wd   \n",
       "184  volkswagen       gas        std            four      sedan          fwd   \n",
       "\n",
       "    engine_location  wheel_base  length  width  ...    engine_size  \\\n",
       "136           front        93.3   157.3   63.8  ...            108   \n",
       "184           front        97.3   171.7   65.5  ...            109   \n",
       "\n",
       "     fuel_system  bore stroke  compression_ratio horsepower  peak_rpm  \\\n",
       "136         2bbl  3.62   2.64                8.7         73       NaN   \n",
       "184         mpfi  3.19   3.40               10.0        100       NaN   \n",
       "\n",
       "     city_mpg  highway_mpg  price  \n",
       "136      26.0         31.0   7603  \n",
       "184      26.0         32.0   9995  \n",
       "\n",
       "[2 rows x 24 columns]"
      ]
     },
     "execution_count": 3,
     "metadata": {},
     "output_type": "execute_result"
    }
   ],
   "source": [
    "#Pesquisando registros onde a propriedade peak_rpm é igual a null.\n",
    "df.loc[df['peak_rpm'].isnull()]"
   ]
  },
  {
   "cell_type": "code",
   "execution_count": 4,
   "metadata": {},
   "outputs": [],
   "source": [
    "#Calculando a média RPM para carros da marca subaru\n",
    "mean = df.loc[(df['peak_rpm'].isnull() == False) & (df['make'] == 'subaru') & (df['engine_size'] == 108)]['peak_rpm'].mean()\n",
    "#Aplicando a média calculada\n",
    "df.loc[136,'peak_rpm'] = mean"
   ]
  },
  {
   "cell_type": "code",
   "execution_count": 5,
   "metadata": {},
   "outputs": [],
   "source": [
    "#Calculando a média RPM para carros da marca volkswagen\n",
    "mean = df.loc[(df['peak_rpm'].isnull() == False) & (df['make'] == 'volkswagen') & (df['engine_size'] == 109)]['peak_rpm'].mean()\n",
    "#Aplicando a média calculada\n",
    "df.loc[184,'peak_rpm'] = mean"
   ]
  },
  {
   "cell_type": "code",
   "execution_count": 6,
   "metadata": {},
   "outputs": [
    {
     "data": {
      "text/html": [
       "<div>\n",
       "<style scoped>\n",
       "    .dataframe tbody tr th:only-of-type {\n",
       "        vertical-align: middle;\n",
       "    }\n",
       "\n",
       "    .dataframe tbody tr th {\n",
       "        vertical-align: top;\n",
       "    }\n",
       "\n",
       "    .dataframe thead th {\n",
       "        text-align: right;\n",
       "    }\n",
       "</style>\n",
       "<table border=\"1\" class=\"dataframe\">\n",
       "  <thead>\n",
       "    <tr style=\"text-align: right;\">\n",
       "      <th></th>\n",
       "      <th>make</th>\n",
       "      <th>fuel_type</th>\n",
       "      <th>aspiration</th>\n",
       "      <th>number_of_doors</th>\n",
       "      <th>body_style</th>\n",
       "      <th>drive_wheels</th>\n",
       "      <th>engine_location</th>\n",
       "      <th>wheel_base</th>\n",
       "      <th>length</th>\n",
       "      <th>width</th>\n",
       "      <th>...</th>\n",
       "      <th>engine_size</th>\n",
       "      <th>fuel_system</th>\n",
       "      <th>bore</th>\n",
       "      <th>stroke</th>\n",
       "      <th>compression_ratio</th>\n",
       "      <th>horsepower</th>\n",
       "      <th>peak_rpm</th>\n",
       "      <th>city_mpg</th>\n",
       "      <th>highway_mpg</th>\n",
       "      <th>price</th>\n",
       "    </tr>\n",
       "  </thead>\n",
       "  <tbody>\n",
       "  </tbody>\n",
       "</table>\n",
       "<p>0 rows × 24 columns</p>\n",
       "</div>"
      ],
      "text/plain": [
       "Empty DataFrame\n",
       "Columns: [make, fuel_type, aspiration, number_of_doors, body_style, drive_wheels, engine_location, wheel_base, length, width, height, curb_weight, engine_type, number_of_cylinders, engine_size, fuel_system, bore, stroke, compression_ratio, horsepower, peak_rpm, city_mpg, highway_mpg, price]\n",
       "Index: []\n",
       "\n",
       "[0 rows x 24 columns]"
      ]
     },
     "execution_count": 6,
     "metadata": {},
     "output_type": "execute_result"
    }
   ],
   "source": [
    "#Validando operação\n",
    "df.loc[df['peak_rpm'].isnull()]"
   ]
  },
  {
   "cell_type": "code",
   "execution_count": 7,
   "metadata": {},
   "outputs": [
    {
     "data": {
      "text/html": [
       "<div>\n",
       "<style scoped>\n",
       "    .dataframe tbody tr th:only-of-type {\n",
       "        vertical-align: middle;\n",
       "    }\n",
       "\n",
       "    .dataframe tbody tr th {\n",
       "        vertical-align: top;\n",
       "    }\n",
       "\n",
       "    .dataframe thead th {\n",
       "        text-align: right;\n",
       "    }\n",
       "</style>\n",
       "<table border=\"1\" class=\"dataframe\">\n",
       "  <thead>\n",
       "    <tr style=\"text-align: right;\">\n",
       "      <th></th>\n",
       "      <th>make</th>\n",
       "      <th>fuel_type</th>\n",
       "      <th>aspiration</th>\n",
       "      <th>number_of_doors</th>\n",
       "      <th>body_style</th>\n",
       "      <th>drive_wheels</th>\n",
       "      <th>engine_location</th>\n",
       "      <th>wheel_base</th>\n",
       "      <th>length</th>\n",
       "      <th>width</th>\n",
       "      <th>...</th>\n",
       "      <th>engine_size</th>\n",
       "      <th>fuel_system</th>\n",
       "      <th>bore</th>\n",
       "      <th>stroke</th>\n",
       "      <th>compression_ratio</th>\n",
       "      <th>horsepower</th>\n",
       "      <th>peak_rpm</th>\n",
       "      <th>city_mpg</th>\n",
       "      <th>highway_mpg</th>\n",
       "      <th>price</th>\n",
       "    </tr>\n",
       "  </thead>\n",
       "  <tbody>\n",
       "    <tr>\n",
       "      <th>36</th>\n",
       "      <td>honda</td>\n",
       "      <td>gas</td>\n",
       "      <td>std</td>\n",
       "      <td>two</td>\n",
       "      <td>hatchback</td>\n",
       "      <td>fwd</td>\n",
       "      <td>front</td>\n",
       "      <td>96.5</td>\n",
       "      <td>167.5</td>\n",
       "      <td>65.2</td>\n",
       "      <td>...</td>\n",
       "      <td>110</td>\n",
       "      <td>1bbl</td>\n",
       "      <td>3.15</td>\n",
       "      <td>3.58</td>\n",
       "      <td>9.0</td>\n",
       "      <td>86</td>\n",
       "      <td>5800.0</td>\n",
       "      <td>NaN</td>\n",
       "      <td>33.0</td>\n",
       "      <td>7895</td>\n",
       "    </tr>\n",
       "  </tbody>\n",
       "</table>\n",
       "<p>1 rows × 24 columns</p>\n",
       "</div>"
      ],
      "text/plain": [
       "     make fuel_type aspiration number_of_doors body_style drive_wheels  \\\n",
       "36  honda       gas        std             two  hatchback          fwd   \n",
       "\n",
       "   engine_location  wheel_base  length  width  ...    engine_size  \\\n",
       "36           front        96.5   167.5   65.2  ...            110   \n",
       "\n",
       "    fuel_system  bore stroke  compression_ratio horsepower  peak_rpm  \\\n",
       "36         1bbl  3.15   3.58                9.0         86    5800.0   \n",
       "\n",
       "    city_mpg  highway_mpg  price  \n",
       "36       NaN         33.0   7895  \n",
       "\n",
       "[1 rows x 24 columns]"
      ]
     },
     "execution_count": 7,
     "metadata": {},
     "output_type": "execute_result"
    }
   ],
   "source": [
    "#Pesquisando registros onde a propriedade city_mpg é igual a null.\n",
    "df.loc[df['city_mpg'].isnull()]"
   ]
  },
  {
   "cell_type": "code",
   "execution_count": 8,
   "metadata": {},
   "outputs": [],
   "source": [
    "#Calculando a média do consumo na cidade\n",
    "mean = df.loc[(df['city_mpg'].isnull() == False) & (df['make'] == 'honda') & (df['engine_size'] == 110)]['city_mpg'].mean()\n",
    "#Aplicando a média calculada\n",
    "df.loc[36,'city_mpg'] = mean"
   ]
  },
  {
   "cell_type": "code",
   "execution_count": 9,
   "metadata": {},
   "outputs": [
    {
     "data": {
      "text/html": [
       "<div>\n",
       "<style scoped>\n",
       "    .dataframe tbody tr th:only-of-type {\n",
       "        vertical-align: middle;\n",
       "    }\n",
       "\n",
       "    .dataframe tbody tr th {\n",
       "        vertical-align: top;\n",
       "    }\n",
       "\n",
       "    .dataframe thead th {\n",
       "        text-align: right;\n",
       "    }\n",
       "</style>\n",
       "<table border=\"1\" class=\"dataframe\">\n",
       "  <thead>\n",
       "    <tr style=\"text-align: right;\">\n",
       "      <th></th>\n",
       "      <th>make</th>\n",
       "      <th>fuel_type</th>\n",
       "      <th>aspiration</th>\n",
       "      <th>number_of_doors</th>\n",
       "      <th>body_style</th>\n",
       "      <th>drive_wheels</th>\n",
       "      <th>engine_location</th>\n",
       "      <th>wheel_base</th>\n",
       "      <th>length</th>\n",
       "      <th>width</th>\n",
       "      <th>...</th>\n",
       "      <th>engine_size</th>\n",
       "      <th>fuel_system</th>\n",
       "      <th>bore</th>\n",
       "      <th>stroke</th>\n",
       "      <th>compression_ratio</th>\n",
       "      <th>horsepower</th>\n",
       "      <th>peak_rpm</th>\n",
       "      <th>city_mpg</th>\n",
       "      <th>highway_mpg</th>\n",
       "      <th>price</th>\n",
       "    </tr>\n",
       "  </thead>\n",
       "  <tbody>\n",
       "  </tbody>\n",
       "</table>\n",
       "<p>0 rows × 24 columns</p>\n",
       "</div>"
      ],
      "text/plain": [
       "Empty DataFrame\n",
       "Columns: [make, fuel_type, aspiration, number_of_doors, body_style, drive_wheels, engine_location, wheel_base, length, width, height, curb_weight, engine_type, number_of_cylinders, engine_size, fuel_system, bore, stroke, compression_ratio, horsepower, peak_rpm, city_mpg, highway_mpg, price]\n",
       "Index: []\n",
       "\n",
       "[0 rows x 24 columns]"
      ]
     },
     "execution_count": 9,
     "metadata": {},
     "output_type": "execute_result"
    }
   ],
   "source": [
    "df.loc[df['city_mpg'].isnull()]"
   ]
  },
  {
   "cell_type": "code",
   "execution_count": 10,
   "metadata": {},
   "outputs": [
    {
     "data": {
      "text/html": [
       "<div>\n",
       "<style scoped>\n",
       "    .dataframe tbody tr th:only-of-type {\n",
       "        vertical-align: middle;\n",
       "    }\n",
       "\n",
       "    .dataframe tbody tr th {\n",
       "        vertical-align: top;\n",
       "    }\n",
       "\n",
       "    .dataframe thead th {\n",
       "        text-align: right;\n",
       "    }\n",
       "</style>\n",
       "<table border=\"1\" class=\"dataframe\">\n",
       "  <thead>\n",
       "    <tr style=\"text-align: right;\">\n",
       "      <th></th>\n",
       "      <th>make</th>\n",
       "      <th>fuel_type</th>\n",
       "      <th>aspiration</th>\n",
       "      <th>number_of_doors</th>\n",
       "      <th>body_style</th>\n",
       "      <th>drive_wheels</th>\n",
       "      <th>engine_location</th>\n",
       "      <th>wheel_base</th>\n",
       "      <th>length</th>\n",
       "      <th>width</th>\n",
       "      <th>...</th>\n",
       "      <th>engine_size</th>\n",
       "      <th>fuel_system</th>\n",
       "      <th>bore</th>\n",
       "      <th>stroke</th>\n",
       "      <th>compression_ratio</th>\n",
       "      <th>horsepower</th>\n",
       "      <th>peak_rpm</th>\n",
       "      <th>city_mpg</th>\n",
       "      <th>highway_mpg</th>\n",
       "      <th>price</th>\n",
       "    </tr>\n",
       "  </thead>\n",
       "  <tbody>\n",
       "    <tr>\n",
       "      <th>32</th>\n",
       "      <td>honda</td>\n",
       "      <td>gas</td>\n",
       "      <td>std</td>\n",
       "      <td>two</td>\n",
       "      <td>hatchback</td>\n",
       "      <td>fwd</td>\n",
       "      <td>front</td>\n",
       "      <td>93.7</td>\n",
       "      <td>150.0</td>\n",
       "      <td>64.0</td>\n",
       "      <td>...</td>\n",
       "      <td>92</td>\n",
       "      <td>1bbl</td>\n",
       "      <td>2.91</td>\n",
       "      <td>3.41</td>\n",
       "      <td>9.2</td>\n",
       "      <td>76</td>\n",
       "      <td>0.0</td>\n",
       "      <td>30.0</td>\n",
       "      <td>NaN</td>\n",
       "      <td>6529</td>\n",
       "    </tr>\n",
       "  </tbody>\n",
       "</table>\n",
       "<p>1 rows × 24 columns</p>\n",
       "</div>"
      ],
      "text/plain": [
       "     make fuel_type aspiration number_of_doors body_style drive_wheels  \\\n",
       "32  honda       gas        std             two  hatchback          fwd   \n",
       "\n",
       "   engine_location  wheel_base  length  width  ...    engine_size  \\\n",
       "32           front        93.7   150.0   64.0  ...             92   \n",
       "\n",
       "    fuel_system  bore stroke  compression_ratio horsepower  peak_rpm  \\\n",
       "32         1bbl  2.91   3.41                9.2         76       0.0   \n",
       "\n",
       "    city_mpg  highway_mpg  price  \n",
       "32      30.0          NaN   6529  \n",
       "\n",
       "[1 rows x 24 columns]"
      ]
     },
     "execution_count": 10,
     "metadata": {},
     "output_type": "execute_result"
    }
   ],
   "source": [
    "#Validando operação\n",
    "df.loc[df['highway_mpg'].isnull()]"
   ]
  },
  {
   "cell_type": "code",
   "execution_count": 11,
   "metadata": {},
   "outputs": [],
   "source": [
    "#Calculando a média do consumo na estrada\n",
    "mean = df.loc[(df['highway_mpg'].isnull() == False) & (df['make'] == 'honda') & (df['engine_size'] == 92)]['highway_mpg'].mean()\n",
    "#Aplicando a média calculada\n",
    "df.loc[32,'highway_mpg'] = mean"
   ]
  },
  {
   "cell_type": "code",
   "execution_count": 12,
   "metadata": {},
   "outputs": [
    {
     "data": {
      "text/html": [
       "<div>\n",
       "<style scoped>\n",
       "    .dataframe tbody tr th:only-of-type {\n",
       "        vertical-align: middle;\n",
       "    }\n",
       "\n",
       "    .dataframe tbody tr th {\n",
       "        vertical-align: top;\n",
       "    }\n",
       "\n",
       "    .dataframe thead th {\n",
       "        text-align: right;\n",
       "    }\n",
       "</style>\n",
       "<table border=\"1\" class=\"dataframe\">\n",
       "  <thead>\n",
       "    <tr style=\"text-align: right;\">\n",
       "      <th></th>\n",
       "      <th>make</th>\n",
       "      <th>fuel_type</th>\n",
       "      <th>aspiration</th>\n",
       "      <th>number_of_doors</th>\n",
       "      <th>body_style</th>\n",
       "      <th>drive_wheels</th>\n",
       "      <th>engine_location</th>\n",
       "      <th>wheel_base</th>\n",
       "      <th>length</th>\n",
       "      <th>width</th>\n",
       "      <th>...</th>\n",
       "      <th>engine_size</th>\n",
       "      <th>fuel_system</th>\n",
       "      <th>bore</th>\n",
       "      <th>stroke</th>\n",
       "      <th>compression_ratio</th>\n",
       "      <th>horsepower</th>\n",
       "      <th>peak_rpm</th>\n",
       "      <th>city_mpg</th>\n",
       "      <th>highway_mpg</th>\n",
       "      <th>price</th>\n",
       "    </tr>\n",
       "  </thead>\n",
       "  <tbody>\n",
       "  </tbody>\n",
       "</table>\n",
       "<p>0 rows × 24 columns</p>\n",
       "</div>"
      ],
      "text/plain": [
       "Empty DataFrame\n",
       "Columns: [make, fuel_type, aspiration, number_of_doors, body_style, drive_wheels, engine_location, wheel_base, length, width, height, curb_weight, engine_type, number_of_cylinders, engine_size, fuel_system, bore, stroke, compression_ratio, horsepower, peak_rpm, city_mpg, highway_mpg, price]\n",
       "Index: []\n",
       "\n",
       "[0 rows x 24 columns]"
      ]
     },
     "execution_count": 12,
     "metadata": {},
     "output_type": "execute_result"
    }
   ],
   "source": [
    "#Validando operação\n",
    "df.loc[df['highway_mpg'].isnull()]"
   ]
  },
  {
   "cell_type": "markdown",
   "metadata": {},
   "source": [
    "###### RESPOSTA:\n",
    "*Considerando que os valores RPM e de consumo estão diretamente relacionados à potência do carro, decidimos aplicar a média calculada apenas dentre os registros de iguais valores para <b>marca</b> (make) e <b>tamanho do motor</b> (engine_size).*"
   ]
  },
  {
   "cell_type": "markdown",
   "metadata": {},
   "source": [
    "### Análise de valores com valores iguais a 0"
   ]
  },
  {
   "cell_type": "markdown",
   "metadata": {},
   "source": [
    "Analise se no conjunto de dados há valores iguais a 0 e verifique se faz parte do contexto. Caso não faça parte do contexto, utilize alguma técnica de imputação de dados apropriada.\n",
    "\n",
    "Inspecione o dataset por dados iguais a 0."
   ]
  },
  {
   "cell_type": "code",
   "execution_count": 13,
   "metadata": {},
   "outputs": [
    {
     "data": {
      "text/plain": [
       "make                   0\n",
       "fuel_type              0\n",
       "aspiration             0\n",
       "number_of_doors        0\n",
       "body_style             0\n",
       "drive_wheels           0\n",
       "engine_location        0\n",
       "wheel_base             0\n",
       "length                 0\n",
       "width                  0\n",
       "height                 0\n",
       "curb_weight            0\n",
       "engine_type            0\n",
       "number_of_cylinders    0\n",
       "engine_size            0\n",
       "fuel_system            0\n",
       "bore                   0\n",
       "stroke                 0\n",
       "compression_ratio      0\n",
       "horsepower             0\n",
       "peak_rpm               2\n",
       "city_mpg               2\n",
       "highway_mpg            1\n",
       "price                  0\n",
       "dtype: int64"
      ]
     },
     "execution_count": 13,
     "metadata": {},
     "output_type": "execute_result"
    }
   ],
   "source": [
    "#Encontrando dados com valor zero (0).\n",
    "df.isin([0]).sum()"
   ]
  },
  {
   "cell_type": "markdown",
   "metadata": {},
   "source": [
    "A imputação de dados pode seguir algum padrão dos demais exemplos ou pode ser simplesmente atribuído um valor. Avalie tais condições de acordo com as inspeções de dados."
   ]
  },
  {
   "cell_type": "code",
   "execution_count": 14,
   "metadata": {},
   "outputs": [
    {
     "data": {
      "text/html": [
       "<div>\n",
       "<style scoped>\n",
       "    .dataframe tbody tr th:only-of-type {\n",
       "        vertical-align: middle;\n",
       "    }\n",
       "\n",
       "    .dataframe tbody tr th {\n",
       "        vertical-align: top;\n",
       "    }\n",
       "\n",
       "    .dataframe thead th {\n",
       "        text-align: right;\n",
       "    }\n",
       "</style>\n",
       "<table border=\"1\" class=\"dataframe\">\n",
       "  <thead>\n",
       "    <tr style=\"text-align: right;\">\n",
       "      <th></th>\n",
       "      <th>make</th>\n",
       "      <th>fuel_type</th>\n",
       "      <th>aspiration</th>\n",
       "      <th>number_of_doors</th>\n",
       "      <th>body_style</th>\n",
       "      <th>drive_wheels</th>\n",
       "      <th>engine_location</th>\n",
       "      <th>wheel_base</th>\n",
       "      <th>length</th>\n",
       "      <th>width</th>\n",
       "      <th>...</th>\n",
       "      <th>engine_size</th>\n",
       "      <th>fuel_system</th>\n",
       "      <th>bore</th>\n",
       "      <th>stroke</th>\n",
       "      <th>compression_ratio</th>\n",
       "      <th>horsepower</th>\n",
       "      <th>peak_rpm</th>\n",
       "      <th>city_mpg</th>\n",
       "      <th>highway_mpg</th>\n",
       "      <th>price</th>\n",
       "    </tr>\n",
       "  </thead>\n",
       "  <tbody>\n",
       "    <tr>\n",
       "      <th>32</th>\n",
       "      <td>honda</td>\n",
       "      <td>gas</td>\n",
       "      <td>std</td>\n",
       "      <td>two</td>\n",
       "      <td>hatchback</td>\n",
       "      <td>fwd</td>\n",
       "      <td>front</td>\n",
       "      <td>93.7</td>\n",
       "      <td>150.0</td>\n",
       "      <td>64.0</td>\n",
       "      <td>...</td>\n",
       "      <td>92</td>\n",
       "      <td>1bbl</td>\n",
       "      <td>2.91</td>\n",
       "      <td>3.41</td>\n",
       "      <td>9.2</td>\n",
       "      <td>76</td>\n",
       "      <td>0.0</td>\n",
       "      <td>30.0</td>\n",
       "      <td>38.8</td>\n",
       "      <td>6529</td>\n",
       "    </tr>\n",
       "    <tr>\n",
       "      <th>35</th>\n",
       "      <td>honda</td>\n",
       "      <td>gas</td>\n",
       "      <td>std</td>\n",
       "      <td>four</td>\n",
       "      <td>wagon</td>\n",
       "      <td>fwd</td>\n",
       "      <td>front</td>\n",
       "      <td>96.5</td>\n",
       "      <td>157.1</td>\n",
       "      <td>63.9</td>\n",
       "      <td>...</td>\n",
       "      <td>92</td>\n",
       "      <td>1bbl</td>\n",
       "      <td>2.92</td>\n",
       "      <td>3.41</td>\n",
       "      <td>9.2</td>\n",
       "      <td>76</td>\n",
       "      <td>0.0</td>\n",
       "      <td>30.0</td>\n",
       "      <td>34.0</td>\n",
       "      <td>7295</td>\n",
       "    </tr>\n",
       "  </tbody>\n",
       "</table>\n",
       "<p>2 rows × 24 columns</p>\n",
       "</div>"
      ],
      "text/plain": [
       "     make fuel_type aspiration number_of_doors body_style drive_wheels  \\\n",
       "32  honda       gas        std             two  hatchback          fwd   \n",
       "35  honda       gas        std            four      wagon          fwd   \n",
       "\n",
       "   engine_location  wheel_base  length  width  ...    engine_size  \\\n",
       "32           front        93.7   150.0   64.0  ...             92   \n",
       "35           front        96.5   157.1   63.9  ...             92   \n",
       "\n",
       "    fuel_system  bore stroke  compression_ratio horsepower  peak_rpm  \\\n",
       "32         1bbl  2.91   3.41                9.2         76       0.0   \n",
       "35         1bbl  2.92   3.41                9.2         76       0.0   \n",
       "\n",
       "    city_mpg  highway_mpg  price  \n",
       "32      30.0         38.8   6529  \n",
       "35      30.0         34.0   7295  \n",
       "\n",
       "[2 rows x 24 columns]"
      ]
     },
     "execution_count": 14,
     "metadata": {},
     "output_type": "execute_result"
    }
   ],
   "source": [
    "df.loc[(df['peak_rpm'].isin([0]))]"
   ]
  },
  {
   "cell_type": "code",
   "execution_count": 15,
   "metadata": {},
   "outputs": [],
   "source": [
    "#Calculando a média RPM\n",
    "mean = df.loc[(df['peak_rpm'].isin([0]) == False) & (df['make'] == 'honda') & (df['engine_size'] == 92)]['peak_rpm'].mean()\n",
    "#Aplicando a média calculada\n",
    "df.loc[32,'peak_rpm'] = mean\n",
    "df.loc[35,'peak_rpm'] = mean"
   ]
  },
  {
   "cell_type": "code",
   "execution_count": 16,
   "metadata": {},
   "outputs": [
    {
     "data": {
      "text/html": [
       "<div>\n",
       "<style scoped>\n",
       "    .dataframe tbody tr th:only-of-type {\n",
       "        vertical-align: middle;\n",
       "    }\n",
       "\n",
       "    .dataframe tbody tr th {\n",
       "        vertical-align: top;\n",
       "    }\n",
       "\n",
       "    .dataframe thead th {\n",
       "        text-align: right;\n",
       "    }\n",
       "</style>\n",
       "<table border=\"1\" class=\"dataframe\">\n",
       "  <thead>\n",
       "    <tr style=\"text-align: right;\">\n",
       "      <th></th>\n",
       "      <th>make</th>\n",
       "      <th>fuel_type</th>\n",
       "      <th>aspiration</th>\n",
       "      <th>number_of_doors</th>\n",
       "      <th>body_style</th>\n",
       "      <th>drive_wheels</th>\n",
       "      <th>engine_location</th>\n",
       "      <th>wheel_base</th>\n",
       "      <th>length</th>\n",
       "      <th>width</th>\n",
       "      <th>...</th>\n",
       "      <th>engine_size</th>\n",
       "      <th>fuel_system</th>\n",
       "      <th>bore</th>\n",
       "      <th>stroke</th>\n",
       "      <th>compression_ratio</th>\n",
       "      <th>horsepower</th>\n",
       "      <th>peak_rpm</th>\n",
       "      <th>city_mpg</th>\n",
       "      <th>highway_mpg</th>\n",
       "      <th>price</th>\n",
       "    </tr>\n",
       "  </thead>\n",
       "  <tbody>\n",
       "    <tr>\n",
       "      <th>66</th>\n",
       "      <td>mercedes-benz</td>\n",
       "      <td>diesel</td>\n",
       "      <td>turbo</td>\n",
       "      <td>two</td>\n",
       "      <td>hardtop</td>\n",
       "      <td>rwd</td>\n",
       "      <td>front</td>\n",
       "      <td>106.7</td>\n",
       "      <td>187.5</td>\n",
       "      <td>70.3</td>\n",
       "      <td>...</td>\n",
       "      <td>183</td>\n",
       "      <td>idi</td>\n",
       "      <td>3.58</td>\n",
       "      <td>3.64</td>\n",
       "      <td>21.5</td>\n",
       "      <td>123</td>\n",
       "      <td>4350.0</td>\n",
       "      <td>0.0</td>\n",
       "      <td>25.0</td>\n",
       "      <td>28176</td>\n",
       "    </tr>\n",
       "    <tr>\n",
       "      <th>181</th>\n",
       "      <td>volkswagen</td>\n",
       "      <td>gas</td>\n",
       "      <td>std</td>\n",
       "      <td>four</td>\n",
       "      <td>sedan</td>\n",
       "      <td>fwd</td>\n",
       "      <td>front</td>\n",
       "      <td>97.3</td>\n",
       "      <td>171.7</td>\n",
       "      <td>65.5</td>\n",
       "      <td>...</td>\n",
       "      <td>109</td>\n",
       "      <td>mpfi</td>\n",
       "      <td>3.19</td>\n",
       "      <td>3.40</td>\n",
       "      <td>9.0</td>\n",
       "      <td>85</td>\n",
       "      <td>5250.0</td>\n",
       "      <td>0.0</td>\n",
       "      <td>34.0</td>\n",
       "      <td>8195</td>\n",
       "    </tr>\n",
       "  </tbody>\n",
       "</table>\n",
       "<p>2 rows × 24 columns</p>\n",
       "</div>"
      ],
      "text/plain": [
       "              make fuel_type aspiration number_of_doors body_style  \\\n",
       "66   mercedes-benz    diesel      turbo             two    hardtop   \n",
       "181     volkswagen       gas        std            four      sedan   \n",
       "\n",
       "    drive_wheels engine_location  wheel_base  length  width  ...    \\\n",
       "66           rwd           front       106.7   187.5   70.3  ...     \n",
       "181          fwd           front        97.3   171.7   65.5  ...     \n",
       "\n",
       "     engine_size  fuel_system  bore stroke  compression_ratio horsepower  \\\n",
       "66           183          idi  3.58   3.64               21.5        123   \n",
       "181          109         mpfi  3.19   3.40                9.0         85   \n",
       "\n",
       "     peak_rpm  city_mpg  highway_mpg  price  \n",
       "66     4350.0       0.0         25.0  28176  \n",
       "181    5250.0       0.0         34.0   8195  \n",
       "\n",
       "[2 rows x 24 columns]"
      ]
     },
     "execution_count": 16,
     "metadata": {},
     "output_type": "execute_result"
    }
   ],
   "source": [
    "df.loc[(df['city_mpg'].isin([0]))]"
   ]
  },
  {
   "cell_type": "code",
   "execution_count": 17,
   "metadata": {},
   "outputs": [],
   "source": [
    "#Calculando a média do consumo na cidade para carros da marca mercedes-benz\n",
    "mean = df.loc[(df['city_mpg'].isin([0]) == False) & (df['make'] == 'mercedes-benz') & (df['engine_size'] == 183)]['city_mpg'].mean()\n",
    "#Aplicando a média calculada\n",
    "df.loc[66,'city_mpg'] = mean"
   ]
  },
  {
   "cell_type": "code",
   "execution_count": 18,
   "metadata": {},
   "outputs": [],
   "source": [
    "#Calculando a média do consumo na cidade para carros da marca volkswagen\n",
    "mean = df.loc[(df['city_mpg'].isin([0]) == False) & (df['make'] == 'volkswagen') & (df['engine_size'] == 109)]['city_mpg'].mean()\n",
    "#Aplicando a média calculada\n",
    "df.loc[181,'city_mpg'] = mean"
   ]
  },
  {
   "cell_type": "code",
   "execution_count": 19,
   "metadata": {},
   "outputs": [
    {
     "data": {
      "text/html": [
       "<div>\n",
       "<style scoped>\n",
       "    .dataframe tbody tr th:only-of-type {\n",
       "        vertical-align: middle;\n",
       "    }\n",
       "\n",
       "    .dataframe tbody tr th {\n",
       "        vertical-align: top;\n",
       "    }\n",
       "\n",
       "    .dataframe thead th {\n",
       "        text-align: right;\n",
       "    }\n",
       "</style>\n",
       "<table border=\"1\" class=\"dataframe\">\n",
       "  <thead>\n",
       "    <tr style=\"text-align: right;\">\n",
       "      <th></th>\n",
       "      <th>make</th>\n",
       "      <th>fuel_type</th>\n",
       "      <th>aspiration</th>\n",
       "      <th>number_of_doors</th>\n",
       "      <th>body_style</th>\n",
       "      <th>drive_wheels</th>\n",
       "      <th>engine_location</th>\n",
       "      <th>wheel_base</th>\n",
       "      <th>length</th>\n",
       "      <th>width</th>\n",
       "      <th>...</th>\n",
       "      <th>engine_size</th>\n",
       "      <th>fuel_system</th>\n",
       "      <th>bore</th>\n",
       "      <th>stroke</th>\n",
       "      <th>compression_ratio</th>\n",
       "      <th>horsepower</th>\n",
       "      <th>peak_rpm</th>\n",
       "      <th>city_mpg</th>\n",
       "      <th>highway_mpg</th>\n",
       "      <th>price</th>\n",
       "    </tr>\n",
       "  </thead>\n",
       "  <tbody>\n",
       "    <tr>\n",
       "      <th>67</th>\n",
       "      <td>mercedes-benz</td>\n",
       "      <td>diesel</td>\n",
       "      <td>turbo</td>\n",
       "      <td>four</td>\n",
       "      <td>sedan</td>\n",
       "      <td>rwd</td>\n",
       "      <td>front</td>\n",
       "      <td>115.6</td>\n",
       "      <td>202.6</td>\n",
       "      <td>71.7</td>\n",
       "      <td>...</td>\n",
       "      <td>183</td>\n",
       "      <td>idi</td>\n",
       "      <td>3.58</td>\n",
       "      <td>3.64</td>\n",
       "      <td>21.5</td>\n",
       "      <td>123</td>\n",
       "      <td>4350.0</td>\n",
       "      <td>22.0</td>\n",
       "      <td>0.0</td>\n",
       "      <td>31600</td>\n",
       "    </tr>\n",
       "  </tbody>\n",
       "</table>\n",
       "<p>1 rows × 24 columns</p>\n",
       "</div>"
      ],
      "text/plain": [
       "             make fuel_type aspiration number_of_doors body_style  \\\n",
       "67  mercedes-benz    diesel      turbo            four      sedan   \n",
       "\n",
       "   drive_wheels engine_location  wheel_base  length  width  ...    \\\n",
       "67          rwd           front       115.6   202.6   71.7  ...     \n",
       "\n",
       "    engine_size  fuel_system  bore stroke  compression_ratio horsepower  \\\n",
       "67          183          idi  3.58   3.64               21.5        123   \n",
       "\n",
       "    peak_rpm  city_mpg  highway_mpg  price  \n",
       "67    4350.0      22.0          0.0  31600  \n",
       "\n",
       "[1 rows x 24 columns]"
      ]
     },
     "execution_count": 19,
     "metadata": {},
     "output_type": "execute_result"
    }
   ],
   "source": [
    "df.loc[(df['highway_mpg'].isin([0]))]"
   ]
  },
  {
   "cell_type": "code",
   "execution_count": 20,
   "metadata": {},
   "outputs": [],
   "source": [
    "#Calculando a média do consumo na estrada\n",
    "mean = df.loc[(df['highway_mpg'].isin([0]) == False) & (df['make'] == 'mercedes-benz') & (df['engine_size'] == 183)]['highway_mpg'].mean()\n",
    "#Aplicando a média calculada\n",
    "df.loc[67,'highway_mpg'] = mean"
   ]
  },
  {
   "cell_type": "markdown",
   "metadata": {},
   "source": [
    "###### RESPOSTA:\n",
    "*Considerando que os valores RPM e de consumo estão diretamente relacionados à potência do carro, decidimos aplicar a média calculada apenas dentre os registros de iguais valores para <b>marca</b> (make) e <b>tamanho do motor</b> (engine_size).*"
   ]
  },
  {
   "cell_type": "markdown",
   "metadata": {},
   "source": [
    "### Análise Numérica de Outliers"
   ]
  },
  {
   "cell_type": "markdown",
   "metadata": {},
   "source": [
    "Da análise visual de outliers realizada acima vamos utilizar uma métrica de verificação mais apropriada e objetiva afim de criar um patamar aceitável de dados não discrepantes.\n",
    "\n",
    "Neste projeto vamos considerar [o Método Turco para identificar discrepantes](http://datapigtechnologies.com/blog/index.php/highlighting-outliers-in-your-data-with-the-tukey-method/), que utiliza um __passo de limite__ que é 5 vezes (em nosso projeto) a diferença entre o terceiro (Q3) e o primeiro quartil (Q1). Deste modo, valores que sejam maiores que o Q3 + passo de limite ou menor Q2 - passo de limite sejam sinalizados como outliers.\n",
    "\n",
    "Construa uma função que receba como parâmetro de entrada um série de dados e exiba os valores discrepantes. Utilize o boilerplate abaixo para completar as instruções faltantes.\n",
    "\n",
    "*Dica: utilize a função do Numpy de percentil, np.percentile(serie, 25) para quartil 1 e np.percentile(serie, 75) para quartil 3.*"
   ]
  },
  {
   "cell_type": "code",
   "execution_count": 171,
   "metadata": {},
   "outputs": [],
   "source": [
    "def identificacao_outlier(df, column_name): \n",
    "    \n",
    "    print(column_name)\n",
    "    \n",
    "    #1o, 2o e 3o quartis\n",
    "    Q1 = np.percentile(df[column_name],25)\n",
    "    Q2 = np.percentile(df[column_name],50)\n",
    "    Q3 = np.percentile(df[column_name],75)\n",
    "    print ('Q1: ' + str(Q1) + ' Q2: ' + str(Q2) + ' Q3: ' + str(Q3))\n",
    "    \n",
    "    #5 vezes a diferença entre Q3 e Q1\n",
    "    passoLimite = 5*(Q3 - Q1)\n",
    "    print('Passo limite: ' + str(passoLimite))\n",
    "    \n",
    "    #Outliers\n",
    "    outlier_upper = []\n",
    "    outlier_lower = []\n",
    "    for i, valor in df[column_name].items():\n",
    "        #valores que sejam maiores que o Q3 + passo de limite\n",
    "        if valor > (Q3 + passoLimite):\n",
    "            outlier_upper.append(valor)\n",
    "        #ou menor Q2 - passo de limite sejam sinalizados como outliers\n",
    "        if valor < (Q2 - passoLimite):\n",
    "            outlier_lower.append(valor)\n",
    "    \n",
    "    #Todos os outliers encontrados\n",
    "    print('outlier lower: ' + ','.join(map(str,outlier_lower)))\n",
    "    print('outlier upper: ' + ','.join(map(str,outlier_upper)))"
   ]
  },
  {
   "cell_type": "code",
   "execution_count": 172,
   "metadata": {},
   "outputs": [
    {
     "name": "stdout",
     "output_type": "stream",
     "text": [
      "wheel_base\n",
      "Q1: 94.5 Q2: 97.0 Q3: 102.4\n",
      "Passo limite: 39.50000000000003\n",
      "outlier lower: \n",
      "outlier upper: \n"
     ]
    }
   ],
   "source": [
    "identificacao_outlier(df,'wheel_base')"
   ]
  },
  {
   "cell_type": "code",
   "execution_count": 173,
   "metadata": {},
   "outputs": [
    {
     "name": "stdout",
     "output_type": "stream",
     "text": [
      "length\n",
      "Q1: 166.8 Q2: 173.2 Q3: 183.5\n",
      "Passo limite: 83.49999999999994\n",
      "outlier lower: \n",
      "outlier upper: \n"
     ]
    }
   ],
   "source": [
    "identificacao_outlier(df,'length')"
   ]
  },
  {
   "cell_type": "code",
   "execution_count": 174,
   "metadata": {},
   "outputs": [
    {
     "name": "stdout",
     "output_type": "stream",
     "text": [
      "width\n",
      "Q1: 64.1 Q2: 65.5 Q3: 66.6\n",
      "Passo limite: 12.5\n",
      "outlier lower: \n",
      "outlier upper: \n"
     ]
    }
   ],
   "source": [
    "identificacao_outlier(df,'width')"
   ]
  },
  {
   "cell_type": "code",
   "execution_count": 175,
   "metadata": {},
   "outputs": [
    {
     "name": "stdout",
     "output_type": "stream",
     "text": [
      "height\n",
      "Q1: 52.0 Q2: 54.1 Q3: 55.5\n",
      "Passo limite: 17.5\n",
      "outlier lower: \n",
      "outlier upper: \n"
     ]
    }
   ],
   "source": [
    "identificacao_outlier(df,'height')"
   ]
  },
  {
   "cell_type": "code",
   "execution_count": 176,
   "metadata": {},
   "outputs": [
    {
     "name": "stdout",
     "output_type": "stream",
     "text": [
      "curb_weight\n",
      "Q1: 2169.0 Q2: 2414.0 Q3: 2926.0\n",
      "Passo limite: 3785.0\n",
      "outlier lower: \n",
      "outlier upper: \n"
     ]
    }
   ],
   "source": [
    "identificacao_outlier(df,'curb_weight')"
   ]
  },
  {
   "cell_type": "code",
   "execution_count": 177,
   "metadata": {},
   "outputs": [
    {
     "name": "stdout",
     "output_type": "stream",
     "text": [
      "engine_size\n",
      "Q1: 98.0 Q2: 120.0 Q3: 141.0\n",
      "Passo limite: 215.0\n",
      "outlier lower: \n",
      "outlier upper: \n"
     ]
    }
   ],
   "source": [
    "identificacao_outlier(df,'engine_size')"
   ]
  },
  {
   "cell_type": "code",
   "execution_count": 178,
   "metadata": {},
   "outputs": [
    {
     "name": "stdout",
     "output_type": "stream",
     "text": [
      "bore\n",
      "Q1: 3.15 Q2: 3.31 Q3: 3.58\n",
      "Passo limite: 2.150000000000001\n",
      "outlier lower: \n",
      "outlier upper: \n"
     ]
    }
   ],
   "source": [
    "identificacao_outlier(df,'bore')"
   ]
  },
  {
   "cell_type": "code",
   "execution_count": 179,
   "metadata": {},
   "outputs": [
    {
     "name": "stdout",
     "output_type": "stream",
     "text": [
      "stroke\n",
      "Q1: 3.11 Q2: 3.29 Q3: 3.46\n",
      "Passo limite: 1.7500000000000004\n",
      "outlier lower: \n",
      "outlier upper: \n"
     ]
    }
   ],
   "source": [
    "identificacao_outlier(df,'stroke')"
   ]
  },
  {
   "cell_type": "code",
   "execution_count": 180,
   "metadata": {},
   "outputs": [
    {
     "name": "stdout",
     "output_type": "stream",
     "text": [
      "compression_ratio\n",
      "Q1: 8.6 Q2: 9.0 Q3: 9.4\n",
      "Passo limite: 4.0000000000000036\n",
      "outlier lower: \n",
      "outlier upper: 22.7,22.0,21.5,21.5,21.5,21.5,21.9,21.0,21.0,21.0,21.0,21.0,22.5,22.5,22.5,23.0,23.0,23.0,23.0,23.0\n"
     ]
    }
   ],
   "source": [
    "identificacao_outlier(df,'compression_ratio')"
   ]
  },
  {
   "cell_type": "code",
   "execution_count": 181,
   "metadata": {},
   "outputs": [
    {
     "name": "stdout",
     "output_type": "stream",
     "text": [
      "horsepower\n",
      "Q1: 70.0 Q2: 95.0 Q3: 116.0\n",
      "Passo limite: 230.0\n",
      "outlier lower: \n",
      "outlier upper: \n"
     ]
    }
   ],
   "source": [
    "identificacao_outlier(df,'horsepower')"
   ]
  },
  {
   "cell_type": "code",
   "execution_count": 182,
   "metadata": {},
   "outputs": [
    {
     "name": "stdout",
     "output_type": "stream",
     "text": [
      "peak_rpm\n",
      "Q1: 4800.0 Q2: 5200.0 Q3: 5500.0\n",
      "Passo limite: 3500.0\n",
      "outlier lower: \n",
      "outlier upper: \n"
     ]
    }
   ],
   "source": [
    "identificacao_outlier(df,'peak_rpm')"
   ]
  },
  {
   "cell_type": "code",
   "execution_count": 183,
   "metadata": {},
   "outputs": [
    {
     "name": "stdout",
     "output_type": "stream",
     "text": [
      "city_mpg\n",
      "Q1: 19.0 Q2: 24.0 Q3: 30.0\n",
      "Passo limite: 55.0\n",
      "outlier lower: \n",
      "outlier upper: \n"
     ]
    }
   ],
   "source": [
    "identificacao_outlier(df,'city_mpg')"
   ]
  },
  {
   "cell_type": "code",
   "execution_count": 184,
   "metadata": {},
   "outputs": [
    {
     "name": "stdout",
     "output_type": "stream",
     "text": [
      "highway_mpg\n",
      "Q1: 25.0 Q2: 30.0 Q3: 34.0\n",
      "Passo limite: 45.0\n",
      "outlier lower: \n",
      "outlier upper: \n"
     ]
    }
   ],
   "source": [
    "identificacao_outlier(df,'highway_mpg')"
   ]
  },
  {
   "cell_type": "code",
   "execution_count": 185,
   "metadata": {},
   "outputs": [
    {
     "name": "stdout",
     "output_type": "stream",
     "text": [
      "price\n",
      "Q1: 7775.0 Q2: 10295.0 Q3: 16500.0\n",
      "Passo limite: 43625.0\n",
      "outlier lower: \n",
      "outlier upper: \n"
     ]
    }
   ],
   "source": [
    "identificacao_outlier(df,'price')"
   ]
  },
  {
   "cell_type": "markdown",
   "metadata": {},
   "source": [
    "**Pergunta:** Houve dados discrepantes localizados pela metodologia sugerida? Qual foi a sua conclusão, são realmente dados que devem ser removidos ou mantidos? Justifique.\n",
    "\n",
    "**Resposta:** *Sim, houve. Foram encontrados outliers superiores para o atributo <b>razão de compressão</b> (compression_ratio). A razão de compressão é diferente entre motores à gasolina e à diesel, sendo superiores para diesel, podendo chegar ao dobro do valor de um motor convencional à gasolina. Considerando que 90% dos registros deste dataset são dados de veículos com motores à gasolina, conforme pode ser visto na observação abaixo, podemos desconsiderar a coluna <b>compression_ratio</b> para futuras análises ou, caso seja uma informação importante para o estudo, devemos remover esses registros.*"
   ]
  },
  {
   "cell_type": "code",
   "execution_count": 197,
   "metadata": {},
   "outputs": [
    {
     "data": {
      "text/plain": [
       "gas       181\n",
       "diesel     20\n",
       "Name: fuel_type, dtype: int64"
      ]
     },
     "execution_count": 197,
     "metadata": {},
     "output_type": "execute_result"
    }
   ],
   "source": [
    "df['fuel_type'].value_counts()"
   ]
  },
  {
   "cell_type": "code",
   "execution_count": 215,
   "metadata": {},
   "outputs": [
    {
     "name": "stdout",
     "output_type": "stream",
     "text": [
      "Obs: Veículos à diesel representam 9.95 % do dataset.\n"
     ]
    }
   ],
   "source": [
    "print('Obs: Veículos à diesel representam',round(20/201*100, 2),'% do dataset.')"
   ]
  },
  {
   "cell_type": "markdown",
   "metadata": {},
   "source": [
    "### Mapeamento de Dados Paramétricos"
   ]
  },
  {
   "cell_type": "markdown",
   "metadata": {},
   "source": [
    "Os algoritmos de aprendizado de máquina precisam receber dados que sejam inteiramente numéricos. Dados que representam uma classificação como por exemplo um tipo de carro, como sedan ou hatchback, deve ser convertido em um valor numérico associado, como por exemplo 1 ou 2.\n",
    "\n",
    "Crie uma função que receba uma lista única e retorne um dicionário com a categoria e um código numérico crescente e incremental para posteriormente utilizarmos como mapeamento."
   ]
  },
  {
   "cell_type": "code",
   "execution_count": 233,
   "metadata": {},
   "outputs": [],
   "source": [
    "#IMPLEMENTAÇÃO\n",
    "#Metodo responsavel pelo mapeamento automatica de series parametricas\n",
    "def mapear_serie(serie):\n",
    "    values = serie.unique()\n",
    "    dict_gen = { i+1 : item for i, item in enumerate(values) }\n",
    "    return dict_gen"
   ]
  },
  {
   "cell_type": "markdown",
   "metadata": {},
   "source": [
    "Com a funcão criada, crie dicionários para cada coluna paramétrica. Lembre-se que é necessário passar somente valores únicos.\n",
    "\n",
    "*Dica: utilize a função unique() do dataframe para obter valores únicos de uma determinada série (ou coluna).*"
   ]
  },
  {
   "cell_type": "code",
   "execution_count": 234,
   "metadata": {},
   "outputs": [],
   "source": [
    "# IMPLEMENTAÇÃO \n",
    "#Criando dicionarios para cada coluna parametrica\n",
    "dict_make = mapear_serie(df['make'])\n",
    "dict_fuel_type = mapear_serie(df['fuel_type'])\n",
    "dict_aspiration = mapear_serie(df['aspiration'])\n",
    "dict_doors = mapear_serie(df['number_of_doors'])\n",
    "dict_body_style = mapear_serie(df['body_style'])\n",
    "dict_drive_wheels = mapear_serie(df['drive_wheels'])\n",
    "dict_engine_location = mapear_serie(df['engine_location'])\n",
    "dict_fuel_system = mapear_serie(df['fuel_system'])"
   ]
  },
  {
   "cell_type": "markdown",
   "metadata": {},
   "source": [
    "Até este momento seu conjunto de dados não deve conter nenhum dado paramétrico. Todos os dados armazenados com valores como texto, por exemplo, \"diese\", \"gas\" deve estar preenchido com valores numéricos, como 1 ou 2.\n",
    "\n",
    "Inspecione seus dados e certifique de que tudo está certo.\n",
    "\n",
    "*Dica: utilize uma inspeção simples visual, com 20 amostras.*"
   ]
  },
  {
   "cell_type": "code",
   "execution_count": 247,
   "metadata": {},
   "outputs": [],
   "source": [
    "#IMPLEMENTAÇÃO\n",
    "#Criando metodo para conversao dos dados parametricos\n",
    "def converter_dado_parametrico(df, attribute, dictionary):\n",
    "    for key, value in dictionary.items():\n",
    "        df.loc[df[attribute] == value, attribute] = key"
   ]
  },
  {
   "cell_type": "code",
   "execution_count": 248,
   "metadata": {},
   "outputs": [],
   "source": [
    "#Convertendo series inteiras de dados parametricos\n",
    "converter_dado_parametrico(df,'make',dict_make)\n",
    "converter_dado_parametrico(df,'fuel_type',dict_fuel_type)\n",
    "converter_dado_parametrico(df,'aspiration',dict_aspiration)\n",
    "converter_dado_parametrico(df,'number_of_doors',dict_doors)\n",
    "converter_dado_parametrico(df,'body_style',dict_body_style)\n",
    "converter_dado_parametrico(df,'drive_wheels',dict_drive_wheels)\n",
    "converter_dado_parametrico(df,'engine_location',dict_engine_location)\n",
    "converter_dado_parametrico(df,'fuel_system',dict_fuel_system)"
   ]
  },
  {
   "cell_type": "code",
   "execution_count": 272,
   "metadata": {},
   "outputs": [
    {
     "data": {
      "text/html": [
       "<div>\n",
       "<style scoped>\n",
       "    .dataframe tbody tr th:only-of-type {\n",
       "        vertical-align: middle;\n",
       "    }\n",
       "\n",
       "    .dataframe tbody tr th {\n",
       "        vertical-align: top;\n",
       "    }\n",
       "\n",
       "    .dataframe thead th {\n",
       "        text-align: right;\n",
       "    }\n",
       "</style>\n",
       "<table border=\"1\" class=\"dataframe\">\n",
       "  <thead>\n",
       "    <tr style=\"text-align: right;\">\n",
       "      <th></th>\n",
       "      <th>make</th>\n",
       "      <th>fuel_type</th>\n",
       "      <th>aspiration</th>\n",
       "      <th>number_of_doors</th>\n",
       "      <th>body_style</th>\n",
       "      <th>drive_wheels</th>\n",
       "      <th>engine_location</th>\n",
       "      <th>wheel_base</th>\n",
       "      <th>length</th>\n",
       "      <th>width</th>\n",
       "      <th>...</th>\n",
       "      <th>engine_size</th>\n",
       "      <th>fuel_system</th>\n",
       "      <th>bore</th>\n",
       "      <th>stroke</th>\n",
       "      <th>compression_ratio</th>\n",
       "      <th>horsepower</th>\n",
       "      <th>peak_rpm</th>\n",
       "      <th>city_mpg</th>\n",
       "      <th>highway_mpg</th>\n",
       "      <th>price</th>\n",
       "    </tr>\n",
       "  </thead>\n",
       "  <tbody>\n",
       "    <tr>\n",
       "      <th>1</th>\n",
       "      <td>1</td>\n",
       "      <td>1</td>\n",
       "      <td>1</td>\n",
       "      <td>1</td>\n",
       "      <td>1</td>\n",
       "      <td>1</td>\n",
       "      <td>1</td>\n",
       "      <td>88.6</td>\n",
       "      <td>168.8</td>\n",
       "      <td>64.1</td>\n",
       "      <td>...</td>\n",
       "      <td>130</td>\n",
       "      <td>1</td>\n",
       "      <td>3.47</td>\n",
       "      <td>2.68</td>\n",
       "      <td>9.0</td>\n",
       "      <td>111</td>\n",
       "      <td>5000.0</td>\n",
       "      <td>21.0</td>\n",
       "      <td>27.0</td>\n",
       "      <td>16500</td>\n",
       "    </tr>\n",
       "    <tr>\n",
       "      <th>11</th>\n",
       "      <td>3</td>\n",
       "      <td>1</td>\n",
       "      <td>1</td>\n",
       "      <td>1</td>\n",
       "      <td>3</td>\n",
       "      <td>1</td>\n",
       "      <td>1</td>\n",
       "      <td>101.2</td>\n",
       "      <td>176.8</td>\n",
       "      <td>64.8</td>\n",
       "      <td>...</td>\n",
       "      <td>164</td>\n",
       "      <td>1</td>\n",
       "      <td>3.31</td>\n",
       "      <td>3.19</td>\n",
       "      <td>9.0</td>\n",
       "      <td>121</td>\n",
       "      <td>4250.0</td>\n",
       "      <td>21.0</td>\n",
       "      <td>28.0</td>\n",
       "      <td>20970</td>\n",
       "    </tr>\n",
       "    <tr>\n",
       "      <th>21</th>\n",
       "      <td>5</td>\n",
       "      <td>1</td>\n",
       "      <td>1</td>\n",
       "      <td>1</td>\n",
       "      <td>2</td>\n",
       "      <td>2</td>\n",
       "      <td>1</td>\n",
       "      <td>93.7</td>\n",
       "      <td>157.3</td>\n",
       "      <td>63.8</td>\n",
       "      <td>...</td>\n",
       "      <td>90</td>\n",
       "      <td>2</td>\n",
       "      <td>2.97</td>\n",
       "      <td>3.23</td>\n",
       "      <td>9.4</td>\n",
       "      <td>68</td>\n",
       "      <td>5500.0</td>\n",
       "      <td>31.0</td>\n",
       "      <td>38.0</td>\n",
       "      <td>6377</td>\n",
       "    </tr>\n",
       "    <tr>\n",
       "      <th>31</th>\n",
       "      <td>6</td>\n",
       "      <td>1</td>\n",
       "      <td>1</td>\n",
       "      <td>1</td>\n",
       "      <td>2</td>\n",
       "      <td>2</td>\n",
       "      <td>1</td>\n",
       "      <td>93.7</td>\n",
       "      <td>150.0</td>\n",
       "      <td>64.0</td>\n",
       "      <td>...</td>\n",
       "      <td>79</td>\n",
       "      <td>4</td>\n",
       "      <td>2.91</td>\n",
       "      <td>3.07</td>\n",
       "      <td>10.1</td>\n",
       "      <td>60</td>\n",
       "      <td>5500.0</td>\n",
       "      <td>38.0</td>\n",
       "      <td>42.0</td>\n",
       "      <td>5399</td>\n",
       "    </tr>\n",
       "    <tr>\n",
       "      <th>41</th>\n",
       "      <td>6</td>\n",
       "      <td>1</td>\n",
       "      <td>1</td>\n",
       "      <td>1</td>\n",
       "      <td>3</td>\n",
       "      <td>2</td>\n",
       "      <td>1</td>\n",
       "      <td>96.5</td>\n",
       "      <td>169.1</td>\n",
       "      <td>66.0</td>\n",
       "      <td>...</td>\n",
       "      <td>110</td>\n",
       "      <td>2</td>\n",
       "      <td>3.15</td>\n",
       "      <td>3.58</td>\n",
       "      <td>9.1</td>\n",
       "      <td>100</td>\n",
       "      <td>5500.0</td>\n",
       "      <td>25.0</td>\n",
       "      <td>31.0</td>\n",
       "      <td>10345</td>\n",
       "    </tr>\n",
       "    <tr>\n",
       "      <th>51</th>\n",
       "      <td>9</td>\n",
       "      <td>1</td>\n",
       "      <td>1</td>\n",
       "      <td>2</td>\n",
       "      <td>3</td>\n",
       "      <td>2</td>\n",
       "      <td>1</td>\n",
       "      <td>93.1</td>\n",
       "      <td>166.8</td>\n",
       "      <td>64.2</td>\n",
       "      <td>...</td>\n",
       "      <td>91</td>\n",
       "      <td>2</td>\n",
       "      <td>3.08</td>\n",
       "      <td>3.15</td>\n",
       "      <td>9.0</td>\n",
       "      <td>68</td>\n",
       "      <td>5000.0</td>\n",
       "      <td>31.0</td>\n",
       "      <td>38.0</td>\n",
       "      <td>7395</td>\n",
       "    </tr>\n",
       "    <tr>\n",
       "      <th>61</th>\n",
       "      <td>9</td>\n",
       "      <td>1</td>\n",
       "      <td>1</td>\n",
       "      <td>2</td>\n",
       "      <td>2</td>\n",
       "      <td>2</td>\n",
       "      <td>1</td>\n",
       "      <td>98.8</td>\n",
       "      <td>177.8</td>\n",
       "      <td>66.5</td>\n",
       "      <td>...</td>\n",
       "      <td>122</td>\n",
       "      <td>2</td>\n",
       "      <td>3.39</td>\n",
       "      <td>3.39</td>\n",
       "      <td>8.6</td>\n",
       "      <td>84</td>\n",
       "      <td>4800.0</td>\n",
       "      <td>26.0</td>\n",
       "      <td>32.0</td>\n",
       "      <td>11245</td>\n",
       "    </tr>\n",
       "    <tr>\n",
       "      <th>71</th>\n",
       "      <td>10</td>\n",
       "      <td>1</td>\n",
       "      <td>1</td>\n",
       "      <td>1</td>\n",
       "      <td>5</td>\n",
       "      <td>1</td>\n",
       "      <td>1</td>\n",
       "      <td>112.0</td>\n",
       "      <td>199.2</td>\n",
       "      <td>72.0</td>\n",
       "      <td>...</td>\n",
       "      <td>304</td>\n",
       "      <td>1</td>\n",
       "      <td>3.80</td>\n",
       "      <td>3.35</td>\n",
       "      <td>8.0</td>\n",
       "      <td>184</td>\n",
       "      <td>4500.0</td>\n",
       "      <td>14.0</td>\n",
       "      <td>16.0</td>\n",
       "      <td>45400</td>\n",
       "    </tr>\n",
       "    <tr>\n",
       "      <th>81</th>\n",
       "      <td>12</td>\n",
       "      <td>1</td>\n",
       "      <td>2</td>\n",
       "      <td>1</td>\n",
       "      <td>2</td>\n",
       "      <td>2</td>\n",
       "      <td>1</td>\n",
       "      <td>95.9</td>\n",
       "      <td>173.2</td>\n",
       "      <td>66.3</td>\n",
       "      <td>...</td>\n",
       "      <td>156</td>\n",
       "      <td>8</td>\n",
       "      <td>3.59</td>\n",
       "      <td>3.86</td>\n",
       "      <td>7.0</td>\n",
       "      <td>145</td>\n",
       "      <td>5000.0</td>\n",
       "      <td>19.0</td>\n",
       "      <td>24.0</td>\n",
       "      <td>14489</td>\n",
       "    </tr>\n",
       "    <tr>\n",
       "      <th>91</th>\n",
       "      <td>13</td>\n",
       "      <td>1</td>\n",
       "      <td>1</td>\n",
       "      <td>1</td>\n",
       "      <td>3</td>\n",
       "      <td>2</td>\n",
       "      <td>1</td>\n",
       "      <td>94.5</td>\n",
       "      <td>165.3</td>\n",
       "      <td>63.8</td>\n",
       "      <td>...</td>\n",
       "      <td>97</td>\n",
       "      <td>2</td>\n",
       "      <td>3.15</td>\n",
       "      <td>3.29</td>\n",
       "      <td>9.4</td>\n",
       "      <td>69</td>\n",
       "      <td>5200.0</td>\n",
       "      <td>31.0</td>\n",
       "      <td>37.0</td>\n",
       "      <td>7299</td>\n",
       "    </tr>\n",
       "    <tr>\n",
       "      <th>101</th>\n",
       "      <td>13</td>\n",
       "      <td>1</td>\n",
       "      <td>1</td>\n",
       "      <td>1</td>\n",
       "      <td>2</td>\n",
       "      <td>1</td>\n",
       "      <td>1</td>\n",
       "      <td>91.3</td>\n",
       "      <td>170.7</td>\n",
       "      <td>67.9</td>\n",
       "      <td>...</td>\n",
       "      <td>181</td>\n",
       "      <td>1</td>\n",
       "      <td>3.43</td>\n",
       "      <td>3.27</td>\n",
       "      <td>9.0</td>\n",
       "      <td>160</td>\n",
       "      <td>5200.0</td>\n",
       "      <td>19.0</td>\n",
       "      <td>25.0</td>\n",
       "      <td>17199</td>\n",
       "    </tr>\n",
       "    <tr>\n",
       "      <th>111</th>\n",
       "      <td>14</td>\n",
       "      <td>2</td>\n",
       "      <td>2</td>\n",
       "      <td>2</td>\n",
       "      <td>4</td>\n",
       "      <td>1</td>\n",
       "      <td>1</td>\n",
       "      <td>114.2</td>\n",
       "      <td>198.9</td>\n",
       "      <td>68.4</td>\n",
       "      <td>...</td>\n",
       "      <td>152</td>\n",
       "      <td>7</td>\n",
       "      <td>3.70</td>\n",
       "      <td>3.52</td>\n",
       "      <td>21.0</td>\n",
       "      <td>95</td>\n",
       "      <td>4150.0</td>\n",
       "      <td>25.0</td>\n",
       "      <td>25.0</td>\n",
       "      <td>17075</td>\n",
       "    </tr>\n",
       "    <tr>\n",
       "      <th>121</th>\n",
       "      <td>15</td>\n",
       "      <td>1</td>\n",
       "      <td>2</td>\n",
       "      <td>1</td>\n",
       "      <td>2</td>\n",
       "      <td>1</td>\n",
       "      <td>1</td>\n",
       "      <td>95.9</td>\n",
       "      <td>173.2</td>\n",
       "      <td>66.3</td>\n",
       "      <td>...</td>\n",
       "      <td>156</td>\n",
       "      <td>8</td>\n",
       "      <td>3.59</td>\n",
       "      <td>3.86</td>\n",
       "      <td>7.0</td>\n",
       "      <td>145</td>\n",
       "      <td>5000.0</td>\n",
       "      <td>19.0</td>\n",
       "      <td>24.0</td>\n",
       "      <td>12764</td>\n",
       "    </tr>\n",
       "    <tr>\n",
       "      <th>131</th>\n",
       "      <td>18</td>\n",
       "      <td>1</td>\n",
       "      <td>1</td>\n",
       "      <td>2</td>\n",
       "      <td>3</td>\n",
       "      <td>2</td>\n",
       "      <td>1</td>\n",
       "      <td>99.1</td>\n",
       "      <td>186.6</td>\n",
       "      <td>66.5</td>\n",
       "      <td>...</td>\n",
       "      <td>121</td>\n",
       "      <td>1</td>\n",
       "      <td>3.54</td>\n",
       "      <td>3.07</td>\n",
       "      <td>9.3</td>\n",
       "      <td>110</td>\n",
       "      <td>5250.0</td>\n",
       "      <td>21.0</td>\n",
       "      <td>28.0</td>\n",
       "      <td>15510</td>\n",
       "    </tr>\n",
       "    <tr>\n",
       "      <th>141</th>\n",
       "      <td>19</td>\n",
       "      <td>1</td>\n",
       "      <td>2</td>\n",
       "      <td>2</td>\n",
       "      <td>3</td>\n",
       "      <td>3</td>\n",
       "      <td>1</td>\n",
       "      <td>97.0</td>\n",
       "      <td>172.0</td>\n",
       "      <td>65.4</td>\n",
       "      <td>...</td>\n",
       "      <td>108</td>\n",
       "      <td>1</td>\n",
       "      <td>3.62</td>\n",
       "      <td>2.64</td>\n",
       "      <td>7.7</td>\n",
       "      <td>111</td>\n",
       "      <td>4800.0</td>\n",
       "      <td>24.0</td>\n",
       "      <td>29.0</td>\n",
       "      <td>11259</td>\n",
       "    </tr>\n",
       "    <tr>\n",
       "      <th>151</th>\n",
       "      <td>20</td>\n",
       "      <td>1</td>\n",
       "      <td>1</td>\n",
       "      <td>2</td>\n",
       "      <td>4</td>\n",
       "      <td>3</td>\n",
       "      <td>1</td>\n",
       "      <td>95.7</td>\n",
       "      <td>169.7</td>\n",
       "      <td>63.6</td>\n",
       "      <td>...</td>\n",
       "      <td>92</td>\n",
       "      <td>2</td>\n",
       "      <td>3.05</td>\n",
       "      <td>3.03</td>\n",
       "      <td>9.0</td>\n",
       "      <td>62</td>\n",
       "      <td>4800.0</td>\n",
       "      <td>27.0</td>\n",
       "      <td>32.0</td>\n",
       "      <td>8778</td>\n",
       "    </tr>\n",
       "    <tr>\n",
       "      <th>161</th>\n",
       "      <td>20</td>\n",
       "      <td>1</td>\n",
       "      <td>1</td>\n",
       "      <td>1</td>\n",
       "      <td>3</td>\n",
       "      <td>1</td>\n",
       "      <td>1</td>\n",
       "      <td>94.5</td>\n",
       "      <td>168.7</td>\n",
       "      <td>64.0</td>\n",
       "      <td>...</td>\n",
       "      <td>98</td>\n",
       "      <td>1</td>\n",
       "      <td>3.24</td>\n",
       "      <td>3.08</td>\n",
       "      <td>9.4</td>\n",
       "      <td>112</td>\n",
       "      <td>6600.0</td>\n",
       "      <td>26.0</td>\n",
       "      <td>29.0</td>\n",
       "      <td>9298</td>\n",
       "    </tr>\n",
       "    <tr>\n",
       "      <th>171</th>\n",
       "      <td>20</td>\n",
       "      <td>1</td>\n",
       "      <td>1</td>\n",
       "      <td>2</td>\n",
       "      <td>2</td>\n",
       "      <td>2</td>\n",
       "      <td>1</td>\n",
       "      <td>102.4</td>\n",
       "      <td>175.6</td>\n",
       "      <td>66.5</td>\n",
       "      <td>...</td>\n",
       "      <td>122</td>\n",
       "      <td>1</td>\n",
       "      <td>3.31</td>\n",
       "      <td>3.54</td>\n",
       "      <td>8.7</td>\n",
       "      <td>92</td>\n",
       "      <td>4200.0</td>\n",
       "      <td>27.0</td>\n",
       "      <td>32.0</td>\n",
       "      <td>9988</td>\n",
       "    </tr>\n",
       "    <tr>\n",
       "      <th>181</th>\n",
       "      <td>21</td>\n",
       "      <td>1</td>\n",
       "      <td>1</td>\n",
       "      <td>2</td>\n",
       "      <td>3</td>\n",
       "      <td>2</td>\n",
       "      <td>1</td>\n",
       "      <td>97.3</td>\n",
       "      <td>171.7</td>\n",
       "      <td>65.5</td>\n",
       "      <td>...</td>\n",
       "      <td>109</td>\n",
       "      <td>1</td>\n",
       "      <td>3.19</td>\n",
       "      <td>3.40</td>\n",
       "      <td>9.0</td>\n",
       "      <td>85</td>\n",
       "      <td>5250.0</td>\n",
       "      <td>25.5</td>\n",
       "      <td>34.0</td>\n",
       "      <td>8195</td>\n",
       "    </tr>\n",
       "    <tr>\n",
       "      <th>191</th>\n",
       "      <td>22</td>\n",
       "      <td>1</td>\n",
       "      <td>1</td>\n",
       "      <td>2</td>\n",
       "      <td>4</td>\n",
       "      <td>1</td>\n",
       "      <td>1</td>\n",
       "      <td>104.3</td>\n",
       "      <td>188.8</td>\n",
       "      <td>67.2</td>\n",
       "      <td>...</td>\n",
       "      <td>141</td>\n",
       "      <td>1</td>\n",
       "      <td>3.78</td>\n",
       "      <td>3.15</td>\n",
       "      <td>9.5</td>\n",
       "      <td>114</td>\n",
       "      <td>5400.0</td>\n",
       "      <td>23.0</td>\n",
       "      <td>28.0</td>\n",
       "      <td>13415</td>\n",
       "    </tr>\n",
       "  </tbody>\n",
       "</table>\n",
       "<p>20 rows × 24 columns</p>\n",
       "</div>"
      ],
      "text/plain": [
       "     make  fuel_type  aspiration  number_of_doors  body_style  drive_wheels  \\\n",
       "1       1          1           1                1           1             1   \n",
       "11      3          1           1                1           3             1   \n",
       "21      5          1           1                1           2             2   \n",
       "31      6          1           1                1           2             2   \n",
       "41      6          1           1                1           3             2   \n",
       "51      9          1           1                2           3             2   \n",
       "61      9          1           1                2           2             2   \n",
       "71     10          1           1                1           5             1   \n",
       "81     12          1           2                1           2             2   \n",
       "91     13          1           1                1           3             2   \n",
       "101    13          1           1                1           2             1   \n",
       "111    14          2           2                2           4             1   \n",
       "121    15          1           2                1           2             1   \n",
       "131    18          1           1                2           3             2   \n",
       "141    19          1           2                2           3             3   \n",
       "151    20          1           1                2           4             3   \n",
       "161    20          1           1                1           3             1   \n",
       "171    20          1           1                2           2             2   \n",
       "181    21          1           1                2           3             2   \n",
       "191    22          1           1                2           4             1   \n",
       "\n",
       "     engine_location  wheel_base  length  width  ...    engine_size  \\\n",
       "1                  1        88.6   168.8   64.1  ...            130   \n",
       "11                 1       101.2   176.8   64.8  ...            164   \n",
       "21                 1        93.7   157.3   63.8  ...             90   \n",
       "31                 1        93.7   150.0   64.0  ...             79   \n",
       "41                 1        96.5   169.1   66.0  ...            110   \n",
       "51                 1        93.1   166.8   64.2  ...             91   \n",
       "61                 1        98.8   177.8   66.5  ...            122   \n",
       "71                 1       112.0   199.2   72.0  ...            304   \n",
       "81                 1        95.9   173.2   66.3  ...            156   \n",
       "91                 1        94.5   165.3   63.8  ...             97   \n",
       "101                1        91.3   170.7   67.9  ...            181   \n",
       "111                1       114.2   198.9   68.4  ...            152   \n",
       "121                1        95.9   173.2   66.3  ...            156   \n",
       "131                1        99.1   186.6   66.5  ...            121   \n",
       "141                1        97.0   172.0   65.4  ...            108   \n",
       "151                1        95.7   169.7   63.6  ...             92   \n",
       "161                1        94.5   168.7   64.0  ...             98   \n",
       "171                1       102.4   175.6   66.5  ...            122   \n",
       "181                1        97.3   171.7   65.5  ...            109   \n",
       "191                1       104.3   188.8   67.2  ...            141   \n",
       "\n",
       "     fuel_system  bore stroke  compression_ratio  horsepower  peak_rpm  \\\n",
       "1              1  3.47   2.68                9.0         111    5000.0   \n",
       "11             1  3.31   3.19                9.0         121    4250.0   \n",
       "21             2  2.97   3.23                9.4          68    5500.0   \n",
       "31             4  2.91   3.07               10.1          60    5500.0   \n",
       "41             2  3.15   3.58                9.1         100    5500.0   \n",
       "51             2  3.08   3.15                9.0          68    5000.0   \n",
       "61             2  3.39   3.39                8.6          84    4800.0   \n",
       "71             1  3.80   3.35                8.0         184    4500.0   \n",
       "81             8  3.59   3.86                7.0         145    5000.0   \n",
       "91             2  3.15   3.29                9.4          69    5200.0   \n",
       "101            1  3.43   3.27                9.0         160    5200.0   \n",
       "111            7  3.70   3.52               21.0          95    4150.0   \n",
       "121            8  3.59   3.86                7.0         145    5000.0   \n",
       "131            1  3.54   3.07                9.3         110    5250.0   \n",
       "141            1  3.62   2.64                7.7         111    4800.0   \n",
       "151            2  3.05   3.03                9.0          62    4800.0   \n",
       "161            1  3.24   3.08                9.4         112    6600.0   \n",
       "171            1  3.31   3.54                8.7          92    4200.0   \n",
       "181            1  3.19   3.40                9.0          85    5250.0   \n",
       "191            1  3.78   3.15                9.5         114    5400.0   \n",
       "\n",
       "     city_mpg  highway_mpg  price  \n",
       "1        21.0         27.0  16500  \n",
       "11       21.0         28.0  20970  \n",
       "21       31.0         38.0   6377  \n",
       "31       38.0         42.0   5399  \n",
       "41       25.0         31.0  10345  \n",
       "51       31.0         38.0   7395  \n",
       "61       26.0         32.0  11245  \n",
       "71       14.0         16.0  45400  \n",
       "81       19.0         24.0  14489  \n",
       "91       31.0         37.0   7299  \n",
       "101      19.0         25.0  17199  \n",
       "111      25.0         25.0  17075  \n",
       "121      19.0         24.0  12764  \n",
       "131      21.0         28.0  15510  \n",
       "141      24.0         29.0  11259  \n",
       "151      27.0         32.0   8778  \n",
       "161      26.0         29.0   9298  \n",
       "171      27.0         32.0   9988  \n",
       "181      25.5         34.0   8195  \n",
       "191      23.0         28.0  13415  \n",
       "\n",
       "[20 rows x 24 columns]"
      ]
     },
     "execution_count": 272,
     "metadata": {},
     "output_type": "execute_result"
    }
   ],
   "source": [
    "#Realizando uma inspecao visual com 20 amostras, selecionando o 1o registro a cada 10.\n",
    "df.iloc[1::10]"
   ]
  },
  {
   "cell_type": "markdown",
   "metadata": {},
   "source": [
    "## Desenvolvimento do Modelo"
   ]
  },
  {
   "cell_type": "markdown",
   "metadata": {},
   "source": [
    "O conjunto de dados que temos a nossa disposição indica a aplicação de um modelo voltado a regressão, ou seja, queremos prever um preço de um veículo dada certas condições. É um problema típico de predição de série numérica.\n",
    "\n",
    "Podemos aplicar quaisquer algoritmos de regressão existente que tenha aplicação de classificação, pois é de um domínio diferente.\n",
    "\n",
    "Iremos explorar 3 modelos de algoritmos de regressão para testar a performance de cada um deles. Ao final será eleito o que apresentar melhor performance de pontuação R2.\n",
    "\n",
    "Os algoritmos são:\n",
    "\n",
    "1. [Regressão Linear](http://scikit-learn.org/stable/auto_examples/linear_model/plot_ols.html)\n",
    "2. [Regressão de Árvore de Decisão](http://scikit-learn.org/stable/modules/generated/sklearn.tree.DecisionTreeRegressor.html)\n",
    "3. [Regressão Ridge](http://scikit-learn.org/stable/modules/linear_model.html#ridge-regression)"
   ]
  },
  {
   "cell_type": "markdown",
   "metadata": {},
   "source": [
    "**Pergunta:** Explique como cada modelo de regressão funciona, indicando pelo menos um caso de uso em cada um deles.\n",
    "\n",
    "**Resposta:**"
   ]
  },
  {
   "cell_type": "markdown",
   "metadata": {
    "collapsed": true
   },
   "source": [
    "Antes de partimos para o treinamento do modelo, precisaremos separar os dados em subconjuntos para permitir avaliar adequadamente o modelo.\n",
    "\n",
    "Uma boa razão de tamanho de conjunto de treinamento e testes é 80% e 20% ou ainda, 70% e 30%. O importante é não misturar dados de treinamento com os de teste para termos uma ideia melhor sobre a performance do modelo com dados previametne não treinados.\n",
    "\n",
    "Antes de separarmos os dados, a partir das análises realizadas anteriormente, quais seriam os atributos a serem utilizados e qual seria o atributo preditor?"
   ]
  },
  {
   "cell_type": "code",
   "execution_count": 1,
   "metadata": {
    "collapsed": true
   },
   "outputs": [],
   "source": [
    "#IMPLEMENTAÇÃO\n",
    "\n"
   ]
  },
  {
   "cell_type": "markdown",
   "metadata": {},
   "source": [
    "Crie subsets de treinamento e teste utilizado uma razão adequada de tamanho.\n",
    "Utilze o ```train_test_split``` passando como parâmetros"
   ]
  },
  {
   "cell_type": "code",
   "execution_count": 2,
   "metadata": {
    "collapsed": true
   },
   "outputs": [],
   "source": [
    "from sklearn.model_selection import train_test_split\n",
    "\n",
    "#IMPLEMENTAÇÃO\n",
    "\n"
   ]
  },
  {
   "cell_type": "markdown",
   "metadata": {},
   "source": [
    "Inspecione cada subconjunto de dados obtidos do ```train_test_split```. Note que nos conjuntos X devemos ter atributos, logo é esperado uma matriz com mais de uma coluna. Nos conjuntos y, é a classe de predição, logo é esperado apenas um atributo."
   ]
  },
  {
   "cell_type": "code",
   "execution_count": 3,
   "metadata": {
    "collapsed": true
   },
   "outputs": [],
   "source": [
    "#IMPLEMENTAÇÃO\n",
    "#Inspeção de X_train\n",
    "\n"
   ]
  },
  {
   "cell_type": "code",
   "execution_count": 4,
   "metadata": {
    "collapsed": true
   },
   "outputs": [],
   "source": [
    "#IMPLEMENTAÇÃO\n",
    "#Inspeção de Y_train\n",
    "\n"
   ]
  },
  {
   "cell_type": "markdown",
   "metadata": {},
   "source": [
    "Verifique também se a razão dos conjuntos está coerente com a divisão estabelecida. Para estes cálculos divia o número de itens do conjunto de treino pelo total e também o de testes pelo total."
   ]
  },
  {
   "cell_type": "code",
   "execution_count": 5,
   "metadata": {
    "collapsed": true
   },
   "outputs": [],
   "source": [
    "#IMPLEMENTAÇÃO\n",
    "\n"
   ]
  },
  {
   "cell_type": "markdown",
   "metadata": {},
   "source": [
    "## Treinamento e teste do modelo\n",
    "\n",
    "Após separarmos os dados adequadamente, selecionar os atributos que irão compor como o modelo deve treinar e qual atributo deve perseguir, o próximo passo é treinar este modelo e verificar, pelos testes, sua performance.\n",
    "\n",
    "Este estudo também irá levar a escolhermos qual algoritmo devemos utilizar dentre os três selecionados neste ajuste.\n",
    "\n",
    "Para avaliarmos a performance dos modelos, vamos criar uma função que determinará a pontuação R2.\n",
    "\n",
    "Não esqueça de avaliar os conjuntos de dados de treino (```X_train```, ```y_train``` e de teste, ```X_test``` e ```y_test```)"
   ]
  },
  {
   "cell_type": "code",
   "execution_count": 7,
   "metadata": {
    "collapsed": true
   },
   "outputs": [],
   "source": [
    "from sklearn.metrics import mean_squared_error, r2_score\n",
    "\n",
    "def pontuacao(modelo, X_test, y_test):\n",
    "    y_pred = modelo.predict(X_test)\n",
    "    print(\"%s R2 score: %.2f\" %(modelo,r2_score(y_test, y_pred)))"
   ]
  },
  {
   "cell_type": "markdown",
   "metadata": {},
   "source": [
    "### Regressão Linear\n",
    "\n",
    "Utilize para a variável preditora a função ```.ravel()``` para converter os dados no formato que o ```sklearn``` espera."
   ]
  },
  {
   "cell_type": "code",
   "execution_count": 18,
   "metadata": {
    "collapsed": true
   },
   "outputs": [],
   "source": [
    "from sklearn import linear_model\n",
    "\n",
    "lr_model = linear_model.LinearRegression()\n",
    "\n",
    "#IMPLEMENTAÇÃO\n",
    "\n"
   ]
  },
  {
   "cell_type": "markdown",
   "metadata": {},
   "source": [
    "Obténha a pontuação R2, utilizando a função ```pontuacao``` para os conjuntos de treino e de teste."
   ]
  },
  {
   "cell_type": "code",
   "execution_count": 10,
   "metadata": {
    "collapsed": true
   },
   "outputs": [],
   "source": [
    "#IMPLEMENTAÇÃO\n",
    "\n"
   ]
  },
  {
   "cell_type": "markdown",
   "metadata": {},
   "source": [
    "### Regressão de árvore de Decisão"
   ]
  },
  {
   "cell_type": "code",
   "execution_count": 17,
   "metadata": {
    "collapsed": true
   },
   "outputs": [],
   "source": [
    "from sklearn import tree\n",
    "\n",
    "dtr_model = tree.DecisionTreeRegressor()\n",
    "\n",
    "#IMPLEMENTAÇÃO\n",
    "\n"
   ]
  },
  {
   "cell_type": "markdown",
   "metadata": {},
   "source": [
    "Obténha a pontuação R2, utilizando a função ```pontuacao``` para os conjuntos de treino e de teste."
   ]
  },
  {
   "cell_type": "code",
   "execution_count": 13,
   "metadata": {
    "collapsed": true
   },
   "outputs": [],
   "source": [
    "#IMPLEMENTAÇÃO\n",
    "\n"
   ]
  },
  {
   "cell_type": "markdown",
   "metadata": {},
   "source": [
    "### Regressão Ridge"
   ]
  },
  {
   "cell_type": "code",
   "execution_count": 16,
   "metadata": {
    "collapsed": true
   },
   "outputs": [],
   "source": [
    "lrr_model = linear_model.Ridge()\n",
    "\n",
    "#IMPLEMENTAÇÃO\n",
    "\n"
   ]
  },
  {
   "cell_type": "markdown",
   "metadata": {},
   "source": [
    "Obténha a pontuação R2, utilizando a função ```pontuacao``` para os conjuntos de treino e de teste."
   ]
  },
  {
   "cell_type": "code",
   "execution_count": 19,
   "metadata": {
    "collapsed": true
   },
   "outputs": [],
   "source": [
    "#IMPLEMENTAÇÃO\n",
    "\n"
   ]
  },
  {
   "cell_type": "markdown",
   "metadata": {},
   "source": [
    "**Pergunta:** Nesta análise preliminar, como foi a performance de cada algoritmo? Explique os resultados e detalhe como a característica de cada algoritmo influenciou no resultado.\n",
    "\n",
    "**Resposta:**"
   ]
  },
  {
   "cell_type": "markdown",
   "metadata": {},
   "source": [
    "## Validação e Otimização do Modelo\n",
    "\n",
    "Cada algoritmo de modelo pode oferecer a possibilidade de ajustes de seus parâmetros. Tais ajustes podem contribuir para melhorar ou piorar o modelo, portanto esta fase de otimização e validação é importante entender o patamar de partida, com os valores padrões obtidos nos passos anteriores versus as otimizações.\n",
    "\n",
    "É comum que as otimizações não sejam capazes de alterar os patamares padrão.\n",
    "\n",
    "O Scikit Learn oferece uma forma simplificada de testar diversas condições de parâmetros diferentes por meio do ```GridSearchCV```. Após diversos testes é apresentado os parâmetros que obtiveram os melhores resultados."
   ]
  },
  {
   "cell_type": "markdown",
   "metadata": {},
   "source": [
    "### Regulação dos parâmetros dos modelos\n",
    "\n",
    "Analise os parâmetros possíveis de cada algortimo de regressão e crie um dicionário para ser utilizado no ```GridSearchCV```.\n",
    "O dicionário é composto pelo nome do parâmetro como chave. Seu valor será uma lista de valores que se deseja otimizar. Não deixe de revisar a [documentação](http://scikit-learn.org/stable/modules/generated/sklearn.model_selection.GridSearchCV.html)\n",
    "\n",
    "Verfique a pontuação R2 para os conjuntos de dados de treino e de teste, pois nem sempre preditores que se saem bem durante o treinamento terão a mesma performance com os dados de teste."
   ]
  },
  {
   "cell_type": "markdown",
   "metadata": {},
   "source": [
    "### Regulação do Modelo de Regressão Linear\n",
    "\n",
    "Escolha quais atributos incluir na variável ```parameters```para serem otimizados. Essa variável é um dicionário onde cada chave representa uma configuração do modelo, o valor pode ser único ou uma lista, neste caso utilize ```[]``` para incluir múltiplos valores. Como nosso problema é relacionado a regressão, utilize a pontuação R2 em ```scoring``` na configuração do ```GridSearchCV```. "
   ]
  },
  {
   "cell_type": "code",
   "execution_count": null,
   "metadata": {
    "collapsed": true
   },
   "outputs": [],
   "source": [
    "from sklearn.model_selection import GridSearchCV\n",
    "        \n",
    "parameters = {}\n",
    "opt_model_lr = GridSearchCV(lr_model, parameters, scoring='r2')\n",
    "opt_model_lr.fit(X_train, y_train.ravel())"
   ]
  },
  {
   "cell_type": "markdown",
   "metadata": {},
   "source": [
    "Calcule as pontuações para o melhor estimador com dados de treino."
   ]
  },
  {
   "cell_type": "code",
   "execution_count": null,
   "metadata": {
    "collapsed": true
   },
   "outputs": [],
   "source": [
    "opt_model_lr.score(X_train, y_train.ravel()), opt_model_lr.best_estimator_"
   ]
  },
  {
   "cell_type": "markdown",
   "metadata": {},
   "source": [
    "E também para os dados de testes."
   ]
  },
  {
   "cell_type": "code",
   "execution_count": null,
   "metadata": {
    "collapsed": true
   },
   "outputs": [],
   "source": [
    "opt_model_lr.score(X_test, y_test.ravel()), opt_model_lr.best_estimator_"
   ]
  },
  {
   "cell_type": "markdown",
   "metadata": {},
   "source": [
    "### Regulação do Modelo de Regressão de Árvore de Decisão"
   ]
  },
  {
   "cell_type": "code",
   "execution_count": null,
   "metadata": {
    "collapsed": true
   },
   "outputs": [],
   "source": [
    "parameters = {}\n",
    "opt_model_dtr = GridSearchCV(dtr_model, parameters, scoring='r2')\n",
    "opt_model_dtr.fit(X_train, y_train.ravel())"
   ]
  },
  {
   "cell_type": "markdown",
   "metadata": {},
   "source": [
    "Pontuação dos dados de treino."
   ]
  },
  {
   "cell_type": "code",
   "execution_count": 21,
   "metadata": {
    "collapsed": true
   },
   "outputs": [],
   "source": [
    "#IMPLEMENTAÇÃO\n",
    "\n"
   ]
  },
  {
   "cell_type": "markdown",
   "metadata": {},
   "source": [
    "Pontuação dos dados de teste."
   ]
  },
  {
   "cell_type": "code",
   "execution_count": 22,
   "metadata": {
    "collapsed": true
   },
   "outputs": [],
   "source": [
    "# IMPLEMENTAÇÃO\n",
    "\n"
   ]
  },
  {
   "cell_type": "markdown",
   "metadata": {},
   "source": [
    "### Regulação do Modelo de Regressão Ridge"
   ]
  },
  {
   "cell_type": "code",
   "execution_count": null,
   "metadata": {
    "collapsed": true
   },
   "outputs": [],
   "source": [
    "parameters = {}\n",
    "\n",
    "opt_model_lrr = GridSearchCV(lrr_model, parameters, scoring='r2')\n",
    "opt_model_lrr.fit(X_train, y_train.ravel())"
   ]
  },
  {
   "cell_type": "markdown",
   "metadata": {},
   "source": [
    "Pontuação dos dados de treino."
   ]
  },
  {
   "cell_type": "code",
   "execution_count": null,
   "metadata": {
    "collapsed": true
   },
   "outputs": [],
   "source": [
    "#IMPLEMENTAÇÃO\n",
    "\n"
   ]
  },
  {
   "cell_type": "markdown",
   "metadata": {},
   "source": [
    "Pontuação dos dados de teste."
   ]
  },
  {
   "cell_type": "code",
   "execution_count": 24,
   "metadata": {
    "collapsed": true
   },
   "outputs": [],
   "source": [
    "#IMPLEMENTAÇÃO\n",
    "\n"
   ]
  },
  {
   "cell_type": "markdown",
   "metadata": {},
   "source": [
    "Sumarize na tabela abaixo os indicadores para cada um dos preditores e suas respectivas pontuações para os conjuntos de dados de treino e de testes"
   ]
  },
  {
   "cell_type": "markdown",
   "metadata": {},
   "source": [
    "|                     | Regressão linear | Regressão árvore de decisão | Regressão ridge |\n",
    "|:---------------------|:------------------:|:-----------------------------:|:-----------------:|\n",
    "| R2 treino |      X           |      X                       |   X              |\n",
    "| R2 teste  |      X            |      X                       |   X              |\n"
   ]
  },
  {
   "cell_type": "markdown",
   "metadata": {},
   "source": [
    "**Pergunta:** Qual dos algoritmos de regressão obteve os melhores resultados? Quais caracaterísticas deste algoritmo podem ajudar a justificar tal resultado?\n",
    "\n",
    "**Resposta:**"
   ]
  },
  {
   "cell_type": "markdown",
   "metadata": {},
   "source": [
    "### Implementação do algoritmo otimizado\n",
    "\n",
    "Configure o classificador selecionado com os parâmetros otimizados obtidos anteriormente."
   ]
  },
  {
   "cell_type": "code",
   "execution_count": 26,
   "metadata": {
    "collapsed": true
   },
   "outputs": [],
   "source": [
    "#IMPLEMENTAÇÃO\n",
    "\n"
   ]
  },
  {
   "cell_type": "markdown",
   "metadata": {},
   "source": [
    "### Teste com exemplos\n",
    "\n",
    "Utilize 3 exemplos criados por você mesmo para obter um valor de venda de veículo. Escolha caracaterísticas que demonstrem como o regressor deveria se comportar. Para tanto, imagine exemplos dos quais você espera um valor baixo, mediano e alto do preço do veículo baseado nos atributos escolhidos"
   ]
  },
  {
   "cell_type": "code",
   "execution_count": null,
   "metadata": {
    "collapsed": true
   },
   "outputs": [],
   "source": [
    "#Lembre-se que os atributos são os armazenados na lista feature_col_names\n",
    "\n",
    "feature_col_names"
   ]
  },
  {
   "cell_type": "code",
   "execution_count": 29,
   "metadata": {
    "collapsed": true
   },
   "outputs": [],
   "source": [
    "#IMPLEMENTAÇÃO\n",
    "#A entrada de dados deve ser uma matriz do seguinte formato, note que há dois colchetes pois é uma \n",
    "#matriz dentro de outra matriz [[a,b,c,d,e]]\n",
    "\n",
    "test_example_1 = [[]]\n",
    "test_example_2 = [[]]\n",
    "test_example_3 = [[]]\n"
   ]
  },
  {
   "cell_type": "markdown",
   "metadata": {},
   "source": [
    "## Conclusões finais\n",
    "\n",
    "Este projeto apresentou de forma simplifcada o __Worflow de Machine Learning__ que pode servir como base para estudos relacionados a classificação ou predição de séries numéricas.\n",
    "\n",
    "A fase de preparação, evidenciada no projeto, é uma das mais importantes da qual se precisa investir um bom tempo para dar os dados organizados e confiáveis, pois é a forma como os classificadores irão aprender com os exemplos e tentarão desvencilhar de efeitos indesejáveis como os vieses.\n",
    "\n",
    "Regressores são um tipo de algoritmo de machine learning que pode ser aplicado em diversas áreas das quais é necessário predizer um número baseado em um conjunto de dados numéricos ou série numérica, logo sua aplicação é bem ampla."
   ]
  },
  {
   "cell_type": "markdown",
   "metadata": {},
   "source": [
    "**Pergunta:** Seu modelo conseguiu prever adequadamente novos dados a partir do treinamento dos dados de teste? O que você faria diferente?\n",
    "\n",
    "**Resposta:**"
   ]
  },
  {
   "cell_type": "markdown",
   "metadata": {},
   "source": [
    "**Pergunta:**: Em que outras áreas você poderia aplicar estes tipos de algoritmos de regressão de aprendizado de máquina?\n",
    "\n",
    "**Resposta**:"
   ]
  },
  {
   "cell_type": "code",
   "execution_count": null,
   "metadata": {
    "collapsed": true
   },
   "outputs": [],
   "source": []
  }
 ],
 "metadata": {
  "kernelspec": {
   "display_name": "Python 3",
   "language": "python",
   "name": "python3"
  },
  "language_info": {
   "codemirror_mode": {
    "name": "ipython",
    "version": 3
   },
   "file_extension": ".py",
   "mimetype": "text/x-python",
   "name": "python",
   "nbconvert_exporter": "python",
   "pygments_lexer": "ipython3",
   "version": "3.6.4"
  }
 },
 "nbformat": 4,
 "nbformat_minor": 2
}
